{
 "cells": [
  {
   "cell_type": "code",
   "execution_count": 1,
   "metadata": {},
   "outputs": [],
   "source": [
    "# Loan Default Prediction\n",
    "# Sbonelo Mntungwa"
   ]
  },
  {
   "cell_type": "code",
   "execution_count": 2,
   "metadata": {},
   "outputs": [],
   "source": [
    "# feature engineering libaries\n",
    "import pandas as pd\n",
    "import numpy as np\n",
    "import random as rnd\n",
    "import math\n",
    "import datetime as dt"
   ]
  },
  {
   "cell_type": "code",
   "execution_count": 3,
   "metadata": {},
   "outputs": [],
   "source": [
    "# visualizations\n",
    "import seaborn as sns\n",
    "import matplotlib.pyplot as plt\n",
    "%matplotlib inline "
   ]
  },
  {
   "cell_type": "code",
   "execution_count": 4,
   "metadata": {},
   "outputs": [],
   "source": [
    "# machine learning\n",
    "from sklearn.linear_model import LogisticRegression\n",
    "from sklearn.svm import SVC, LinearSVC\n",
    "from sklearn.ensemble import RandomForestClassifier\n",
    "from sklearn.neighbors import KNeighborsClassifier\n",
    "from sklearn.naive_bayes import GaussianNB\n",
    "from sklearn.linear_model import Perceptron\n",
    "from sklearn.linear_model import SGDClassifier\n",
    "from sklearn.tree import DecisionTreeClassifier\n"
   ]
  },
  {
   "cell_type": "code",
   "execution_count": 5,
   "metadata": {},
   "outputs": [],
   "source": [
    "# getting data\n",
    "train_demo = pd.read_csv('traindemographics.csv')\n",
    "test_demo = pd.read_csv('testdemographics.csv')\n",
    "train_prev = pd.read_csv('trainprevloans.csv')\n",
    "test_prev = pd.read_csv('testprevloans.csv')\n",
    "train_perf = pd.read_csv('trainperf.csv')\n",
    "test_perf = pd.read_csv('testperf.csv')"
   ]
  },
  {
   "cell_type": "code",
   "execution_count": 6,
   "metadata": {},
   "outputs": [],
   "source": [
    "# feature engineering train/test_demo"
   ]
  },
  {
   "cell_type": "code",
   "execution_count": 7,
   "metadata": {},
   "outputs": [
    {
     "data": {
      "text/html": [
       "<div>\n",
       "<style scoped>\n",
       "    .dataframe tbody tr th:only-of-type {\n",
       "        vertical-align: middle;\n",
       "    }\n",
       "\n",
       "    .dataframe tbody tr th {\n",
       "        vertical-align: top;\n",
       "    }\n",
       "\n",
       "    .dataframe thead th {\n",
       "        text-align: right;\n",
       "    }\n",
       "</style>\n",
       "<table border=\"1\" class=\"dataframe\">\n",
       "  <thead>\n",
       "    <tr style=\"text-align: right;\">\n",
       "      <th></th>\n",
       "      <th>customerid</th>\n",
       "      <th>birthdate</th>\n",
       "      <th>bank_account_type</th>\n",
       "      <th>longitude_gps</th>\n",
       "      <th>latitude_gps</th>\n",
       "      <th>bank_name_clients</th>\n",
       "      <th>bank_branch_clients</th>\n",
       "      <th>employment_status_clients</th>\n",
       "      <th>level_of_education_clients</th>\n",
       "    </tr>\n",
       "  </thead>\n",
       "  <tbody>\n",
       "    <tr>\n",
       "      <td>0</td>\n",
       "      <td>8a858f305c8dd672015c93b1db645db4</td>\n",
       "      <td>1976-08-28 00:00:00.000000</td>\n",
       "      <td>Savings</td>\n",
       "      <td>5.296628</td>\n",
       "      <td>7.593965</td>\n",
       "      <td>Heritage Bank</td>\n",
       "      <td>NaN</td>\n",
       "      <td>Permanent</td>\n",
       "      <td>NaN</td>\n",
       "    </tr>\n",
       "    <tr>\n",
       "      <td>1</td>\n",
       "      <td>8a858f085a477386015a47fb049e49ca</td>\n",
       "      <td>1978-06-23 00:00:00.000000</td>\n",
       "      <td>Savings</td>\n",
       "      <td>3.294513</td>\n",
       "      <td>6.596602</td>\n",
       "      <td>UBA</td>\n",
       "      <td>NaN</td>\n",
       "      <td>Permanent</td>\n",
       "      <td>NaN</td>\n",
       "    </tr>\n",
       "    <tr>\n",
       "      <td>2</td>\n",
       "      <td>8a858e6f5cd5e874015cd6f5634c39ad</td>\n",
       "      <td>1984-04-04 00:00:00.000000</td>\n",
       "      <td>Savings</td>\n",
       "      <td>8.501912</td>\n",
       "      <td>7.729364</td>\n",
       "      <td>First Bank</td>\n",
       "      <td>NaN</td>\n",
       "      <td>Permanent</td>\n",
       "      <td>NaN</td>\n",
       "    </tr>\n",
       "    <tr>\n",
       "      <td>3</td>\n",
       "      <td>8a858e9d5bfd7037015bfdab79f61305</td>\n",
       "      <td>1983-05-28 00:00:00.000000</td>\n",
       "      <td>Savings</td>\n",
       "      <td>3.318904</td>\n",
       "      <td>6.681595</td>\n",
       "      <td>UBA</td>\n",
       "      <td>NaN</td>\n",
       "      <td>Permanent</td>\n",
       "      <td>NaN</td>\n",
       "    </tr>\n",
       "    <tr>\n",
       "      <td>4</td>\n",
       "      <td>8a858fde56eb02280156eb6dafc128ac</td>\n",
       "      <td>1982-03-29 00:00:00.000000</td>\n",
       "      <td>Savings</td>\n",
       "      <td>6.354624</td>\n",
       "      <td>4.949031</td>\n",
       "      <td>First Bank</td>\n",
       "      <td>NaN</td>\n",
       "      <td>Self-Employed</td>\n",
       "      <td>NaN</td>\n",
       "    </tr>\n",
       "  </tbody>\n",
       "</table>\n",
       "</div>"
      ],
      "text/plain": [
       "                         customerid                   birthdate  \\\n",
       "0  8a858f305c8dd672015c93b1db645db4  1976-08-28 00:00:00.000000   \n",
       "1  8a858f085a477386015a47fb049e49ca  1978-06-23 00:00:00.000000   \n",
       "2  8a858e6f5cd5e874015cd6f5634c39ad  1984-04-04 00:00:00.000000   \n",
       "3  8a858e9d5bfd7037015bfdab79f61305  1983-05-28 00:00:00.000000   \n",
       "4  8a858fde56eb02280156eb6dafc128ac  1982-03-29 00:00:00.000000   \n",
       "\n",
       "  bank_account_type  longitude_gps  latitude_gps bank_name_clients  \\\n",
       "0           Savings       5.296628      7.593965     Heritage Bank   \n",
       "1           Savings       3.294513      6.596602               UBA   \n",
       "2           Savings       8.501912      7.729364        First Bank   \n",
       "3           Savings       3.318904      6.681595               UBA   \n",
       "4           Savings       6.354624      4.949031        First Bank   \n",
       "\n",
       "  bank_branch_clients employment_status_clients level_of_education_clients  \n",
       "0                 NaN                 Permanent                        NaN  \n",
       "1                 NaN                 Permanent                        NaN  \n",
       "2                 NaN                 Permanent                        NaN  \n",
       "3                 NaN                 Permanent                        NaN  \n",
       "4                 NaN             Self-Employed                        NaN  "
      ]
     },
     "execution_count": 7,
     "metadata": {},
     "output_type": "execute_result"
    }
   ],
   "source": [
    "test_demo.head()"
   ]
  },
  {
   "cell_type": "code",
   "execution_count": 8,
   "metadata": {},
   "outputs": [],
   "source": [
    "# dropping [dateofbirth] since we are unable to detect current age of customers\n",
    "# dropping approveddate and creationdate since the values have incorrect date  formats in the testperf data \n",
    "# determining current age of customers is determined by dateofbirth and creationdate"
   ]
  },
  {
   "cell_type": "code",
   "execution_count": 9,
   "metadata": {},
   "outputs": [],
   "source": [
    "train_perf = train_perf.drop(['approveddate','creationdate'], axis=1)\n",
    "test_perf = test_perf.drop(['approveddate','creationdate'], axis=1)\n",
    "train_demo = train_demo.drop(['birthdate'], axis=1)\n",
    "test_demo = test_demo.drop(['birthdate'], axis=1)"
   ]
  },
  {
   "cell_type": "code",
   "execution_count": 10,
   "metadata": {},
   "outputs": [
    {
     "data": {
      "text/plain": [
       "Savings    3425\n",
       "Other       865\n",
       "Current      56\n",
       "Name: bank_account_type, dtype: int64"
      ]
     },
     "execution_count": 10,
     "metadata": {},
     "output_type": "execute_result"
    }
   ],
   "source": [
    "# investigate bank_account_type\n",
    "train_demo['bank_account_type'].value_counts()"
   ]
  },
  {
   "cell_type": "code",
   "execution_count": 11,
   "metadata": {},
   "outputs": [],
   "source": [
    "# combine current and other\n",
    "combine_demo = [train_demo, test_demo]\n",
    "for dataset in combine_demo:\n",
    "    dataset['bank_account_type'] = dataset['bank_account_type'].replace({'Savings': 1, 'Other': 0, 'Current': 0})"
   ]
  },
  {
   "cell_type": "code",
   "execution_count": 12,
   "metadata": {},
   "outputs": [],
   "source": [
    "# determine point of center for area\n",
    "longitude_mean = train_demo['longitude_gps'].mean()\n",
    "latitude_mean = train_demo['latitude_gps'].mean()\n"
   ]
  },
  {
   "cell_type": "code",
   "execution_count": 13,
   "metadata": {},
   "outputs": [
    {
     "data": {
      "text/plain": [
       "<matplotlib.collections.PathCollection at 0x28a33c343c8>"
      ]
     },
     "execution_count": 13,
     "metadata": {},
     "output_type": "execute_result"
    },
    {
     "data": {
      "image/png": "[encoded data removed]",
      "text/plain": [
       "<Figure size 432x288 with 1 Axes>"
      ]
     },
     "metadata": {
      "needs_background": "light"
     },
     "output_type": "display_data"
    }
   ],
   "source": [
    "plt.scatter(train_demo['longitude_gps'], train_demo['latitude_gps'])"
   ]
  },
  {
   "cell_type": "code",
   "execution_count": 14,
   "metadata": {},
   "outputs": [],
   "source": [
    "from sklearn.cluster import KMeans"
   ]
  },
  {
   "cell_type": "code",
   "execution_count": 15,
   "metadata": {
    "scrolled": true
   },
   "outputs": [
    {
     "data": {
      "text/plain": [
       "KMeans(algorithm='auto', copy_x=True, init='k-means++', max_iter=300,\n",
       "       n_clusters=4, n_init=10, n_jobs=None, precompute_distances='auto',\n",
       "       random_state=None, tol=0.0001, verbose=0)"
      ]
     },
     "execution_count": 15,
     "metadata": {},
     "output_type": "execute_result"
    }
   ],
   "source": [
    "# determine centroids of locations \n",
    "df = df = pd.DataFrame({\n",
    "    'x': train_demo['latitude_gps'],\n",
    "    'y': train_demo['longitude_gps']\n",
    "})\n",
    "kmeans = KMeans(n_clusters=4)\n",
    "kmeans.fit(df)"
   ]
  },
  {
   "cell_type": "code",
   "execution_count": 16,
   "metadata": {},
   "outputs": [],
   "source": [
    "centers = kmeans.cluster_centers_"
   ]
  },
  {
   "cell_type": "code",
   "execution_count": 17,
   "metadata": {},
   "outputs": [],
   "source": [
    "# function to determine the rearest coordinates from the centroid\n",
    "def find_nearest_center(x,y):\n",
    "    smallest_distance = 999999999\n",
    "    ind = -1\n",
    "    counter = 0\n",
    "    for center in centers:\n",
    "        dist = (center[0]-x)**2 + (center[1]-y)**2\n",
    "        dist = math.sqrt(dist)\n",
    "        if(dist< smallest_distance):\n",
    "            smallest_distance = dist\n",
    "            ind = counter\n",
    "        counter = counter + 1\n",
    "    return ind"
   ]
  },
  {
   "cell_type": "code",
   "execution_count": 18,
   "metadata": {},
   "outputs": [
    {
     "data": {
      "text/plain": [
       "0    1089\n",
       "3     393\n",
       "1       5\n",
       "Name: region, dtype: int64"
      ]
     },
     "execution_count": 18,
     "metadata": {},
     "output_type": "execute_result"
    }
   ],
   "source": [
    "# assigning coordinates with region\n",
    "reg = []\n",
    "reg_test = []\n",
    "for i,j in zip(train_demo['latitude_gps'],train_demo['longitude_gps']):\n",
    "    reg.append(find_nearest_center(i,j))\n",
    "for i,j in zip(test_demo['latitude_gps'],test_demo['longitude_gps']):\n",
    "    reg_test.append(find_nearest_center(i,j))\n",
    "train_demo['region'] = reg\n",
    "test_demo['region'] = reg_test\n",
    "test_demo['region'].value_counts()"
   ]
  },
  {
   "cell_type": "code",
   "execution_count": 19,
   "metadata": {},
   "outputs": [],
   "source": [
    "# merging uncommon regions\n",
    "combine_demo = [train_demo,test_demo]\n",
    "for dataset in combine_demo:\n",
    "    dataset['region'] = dataset['region'].replace({2: 1, 3: 1})"
   ]
  },
  {
   "cell_type": "code",
   "execution_count": 20,
   "metadata": {},
   "outputs": [],
   "source": [
    "# drop latitude and longitde\n",
    "train_demo = train_demo.drop(['longitude_gps', 'latitude_gps'], axis=1)\n",
    "test_demo = test_demo.drop(['longitude_gps', 'latitude_gps'], axis=1)"
   ]
  },
  {
   "cell_type": "code",
   "execution_count": 21,
   "metadata": {},
   "outputs": [
    {
     "data": {
      "text/html": [
       "<div>\n",
       "<style scoped>\n",
       "    .dataframe tbody tr th:only-of-type {\n",
       "        vertical-align: middle;\n",
       "    }\n",
       "\n",
       "    .dataframe tbody tr th {\n",
       "        vertical-align: top;\n",
       "    }\n",
       "\n",
       "    .dataframe thead th {\n",
       "        text-align: right;\n",
       "    }\n",
       "</style>\n",
       "<table border=\"1\" class=\"dataframe\">\n",
       "  <thead>\n",
       "    <tr style=\"text-align: right;\">\n",
       "      <th></th>\n",
       "      <th>customerid</th>\n",
       "      <th>bank_account_type</th>\n",
       "      <th>bank_name_clients</th>\n",
       "      <th>bank_branch_clients</th>\n",
       "      <th>employment_status_clients</th>\n",
       "      <th>level_of_education_clients</th>\n",
       "      <th>region</th>\n",
       "    </tr>\n",
       "  </thead>\n",
       "  <tbody>\n",
       "    <tr>\n",
       "      <td>0</td>\n",
       "      <td>8a858e135cb22031015cbafc76964ebd</td>\n",
       "      <td>1</td>\n",
       "      <td>GT Bank</td>\n",
       "      <td>NaN</td>\n",
       "      <td>NaN</td>\n",
       "      <td>NaN</td>\n",
       "      <td>0</td>\n",
       "    </tr>\n",
       "    <tr>\n",
       "      <td>1</td>\n",
       "      <td>8a858e275c7ea5ec015c82482d7c3996</td>\n",
       "      <td>1</td>\n",
       "      <td>Sterling Bank</td>\n",
       "      <td>NaN</td>\n",
       "      <td>Permanent</td>\n",
       "      <td>NaN</td>\n",
       "      <td>0</td>\n",
       "    </tr>\n",
       "    <tr>\n",
       "      <td>2</td>\n",
       "      <td>8a858e5b5bd99460015bdc95cd485634</td>\n",
       "      <td>1</td>\n",
       "      <td>Fidelity Bank</td>\n",
       "      <td>NaN</td>\n",
       "      <td>NaN</td>\n",
       "      <td>NaN</td>\n",
       "      <td>0</td>\n",
       "    </tr>\n",
       "    <tr>\n",
       "      <td>3</td>\n",
       "      <td>8a858efd5ca70688015cabd1f1e94b55</td>\n",
       "      <td>1</td>\n",
       "      <td>GT Bank</td>\n",
       "      <td>NaN</td>\n",
       "      <td>Permanent</td>\n",
       "      <td>NaN</td>\n",
       "      <td>0</td>\n",
       "    </tr>\n",
       "    <tr>\n",
       "      <td>4</td>\n",
       "      <td>8a858e785acd3412015acd48f4920d04</td>\n",
       "      <td>1</td>\n",
       "      <td>GT Bank</td>\n",
       "      <td>NaN</td>\n",
       "      <td>Permanent</td>\n",
       "      <td>NaN</td>\n",
       "      <td>1</td>\n",
       "    </tr>\n",
       "  </tbody>\n",
       "</table>\n",
       "</div>"
      ],
      "text/plain": [
       "                         customerid  bank_account_type bank_name_clients  \\\n",
       "0  8a858e135cb22031015cbafc76964ebd                  1           GT Bank   \n",
       "1  8a858e275c7ea5ec015c82482d7c3996                  1     Sterling Bank   \n",
       "2  8a858e5b5bd99460015bdc95cd485634                  1     Fidelity Bank   \n",
       "3  8a858efd5ca70688015cabd1f1e94b55                  1           GT Bank   \n",
       "4  8a858e785acd3412015acd48f4920d04                  1           GT Bank   \n",
       "\n",
       "  bank_branch_clients employment_status_clients level_of_education_clients  \\\n",
       "0                 NaN                       NaN                        NaN   \n",
       "1                 NaN                 Permanent                        NaN   \n",
       "2                 NaN                       NaN                        NaN   \n",
       "3                 NaN                 Permanent                        NaN   \n",
       "4                 NaN                 Permanent                        NaN   \n",
       "\n",
       "   region  \n",
       "0       0  \n",
       "1       0  \n",
       "2       0  \n",
       "3       0  \n",
       "4       1  "
      ]
     },
     "execution_count": 21,
     "metadata": {},
     "output_type": "execute_result"
    }
   ],
   "source": [
    "train_demo.head()"
   ]
  },
  {
   "cell_type": "code",
   "execution_count": 22,
   "metadata": {},
   "outputs": [
    {
     "data": {
      "text/plain": [
       "GT Bank               1598\n",
       "First Bank             590\n",
       "Access Bank            432\n",
       "UBA                    353\n",
       "Zenith Bank            301\n",
       "Diamond Bank           282\n",
       "EcoBank                150\n",
       "Stanbic IBTC           145\n",
       "FCMB                   121\n",
       "Fidelity Bank          103\n",
       "Skye Bank              102\n",
       "Sterling Bank           55\n",
       "Wema Bank               28\n",
       "Union Bank              23\n",
       "Heritage Bank           22\n",
       "Keystone Bank           19\n",
       "Standard Chartered      15\n",
       "Unity Bank               7\n",
       "Name: bank_name_clients, dtype: int64"
      ]
     },
     "execution_count": 22,
     "metadata": {},
     "output_type": "execute_result"
    }
   ],
   "source": [
    "# investigate bank\n",
    "train_demo['bank_name_clients'].value_counts()"
   ]
  },
  {
   "cell_type": "code",
   "execution_count": 23,
   "metadata": {},
   "outputs": [],
   "source": [
    "# bank_branch_clients (dropping as entries too low)\n",
    "train_demo = train_demo.drop(['bank_branch_clients'], axis=1)\n",
    "test_demo = test_demo.drop(['bank_branch_clients'], axis=1)"
   ]
  },
  {
   "cell_type": "code",
   "execution_count": 24,
   "metadata": {},
   "outputs": [
    {
     "data": {
      "text/plain": [
       "Permanent        3146\n",
       "Self-Employed     348\n",
       "Student           142\n",
       "Unemployed         57\n",
       "Retired             4\n",
       "Contract            1\n",
       "Name: employment_status_clients, dtype: int64"
      ]
     },
     "execution_count": 24,
     "metadata": {},
     "output_type": "execute_result"
    }
   ],
   "source": [
    "# employment_status_clients\n",
    "train_demo['employment_status_clients'].value_counts()"
   ]
  },
  {
   "cell_type": "code",
   "execution_count": 25,
   "metadata": {},
   "outputs": [],
   "source": [
    "#fill empty entries with unknown\n",
    "train_demo['employment_status_clients']= train_demo['employment_status_clients'].fillna(\"Unknown\")\n",
    "test_demo['employment_status_clients']= test_demo['employment_status_clients'].fillna(\"Unknown\")"
   ]
  },
  {
   "cell_type": "code",
   "execution_count": 26,
   "metadata": {},
   "outputs": [],
   "source": [
    "# mask employment\n",
    "employment_map = {'Permanent': 0, 'Self-Employed':1, 'Student':2, 'Unemployed':3, 'Retired':4,'Contract':5, 'Unknown':6 }\n",
    "combine_demo = [train_demo, test_demo]\n",
    "for dataset in combine_demo:\n",
    "    dataset['employment_status_clients'] = dataset['employment_status_clients'].replace(employment_map)"
   ]
  },
  {
   "cell_type": "code",
   "execution_count": 27,
   "metadata": {},
   "outputs": [
    {
     "data": {
      "text/plain": [
       "Graduate         420\n",
       "Secondary         89\n",
       "Post-Graduate     68\n",
       "Primary           10\n",
       "Name: level_of_education_clients, dtype: int64"
      ]
     },
     "execution_count": 27,
     "metadata": {},
     "output_type": "execute_result"
    }
   ],
   "source": [
    "# level_of_education_clients\n",
    "train_demo['level_of_education_clients'].value_counts()"
   ]
  },
  {
   "cell_type": "code",
   "execution_count": 28,
   "metadata": {},
   "outputs": [],
   "source": [
    "# fill empty entries with unknown\n",
    "train_demo['level_of_education_clients']= train_demo['level_of_education_clients'].fillna(\"Unknown\")\n",
    "test_demo['level_of_education_clients']= test_demo['level_of_education_clients'].fillna(\"Unknown\")"
   ]
  },
  {
   "cell_type": "code",
   "execution_count": 29,
   "metadata": {},
   "outputs": [],
   "source": [
    "# mask education\n",
    "education_map = {'Graduate': 0, 'Secondary':1, 'Post-Graduate':2, 'Primary':3, 'Unknown':4 }\n",
    "combine_demo = [train_demo, test_demo]\n",
    "for dataset in combine_demo:\n",
    "    dataset['level_of_education_clients'] = dataset['level_of_education_clients'].replace(education_map)"
   ]
  },
  {
   "cell_type": "code",
   "execution_count": 30,
   "metadata": {},
   "outputs": [
    {
     "data": {
      "text/html": [
       "<div>\n",
       "<style scoped>\n",
       "    .dataframe tbody tr th:only-of-type {\n",
       "        vertical-align: middle;\n",
       "    }\n",
       "\n",
       "    .dataframe tbody tr th {\n",
       "        vertical-align: top;\n",
       "    }\n",
       "\n",
       "    .dataframe thead th {\n",
       "        text-align: right;\n",
       "    }\n",
       "</style>\n",
       "<table border=\"1\" class=\"dataframe\">\n",
       "  <thead>\n",
       "    <tr style=\"text-align: right;\">\n",
       "      <th></th>\n",
       "      <th>customerid</th>\n",
       "      <th>bank_account_type</th>\n",
       "      <th>bank_name_clients</th>\n",
       "      <th>employment_status_clients</th>\n",
       "      <th>level_of_education_clients</th>\n",
       "      <th>region</th>\n",
       "    </tr>\n",
       "  </thead>\n",
       "  <tbody>\n",
       "    <tr>\n",
       "      <td>0</td>\n",
       "      <td>8a858e135cb22031015cbafc76964ebd</td>\n",
       "      <td>1</td>\n",
       "      <td>GT Bank</td>\n",
       "      <td>6</td>\n",
       "      <td>4</td>\n",
       "      <td>0</td>\n",
       "    </tr>\n",
       "    <tr>\n",
       "      <td>1</td>\n",
       "      <td>8a858e275c7ea5ec015c82482d7c3996</td>\n",
       "      <td>1</td>\n",
       "      <td>Sterling Bank</td>\n",
       "      <td>0</td>\n",
       "      <td>4</td>\n",
       "      <td>0</td>\n",
       "    </tr>\n",
       "    <tr>\n",
       "      <td>2</td>\n",
       "      <td>8a858e5b5bd99460015bdc95cd485634</td>\n",
       "      <td>1</td>\n",
       "      <td>Fidelity Bank</td>\n",
       "      <td>6</td>\n",
       "      <td>4</td>\n",
       "      <td>0</td>\n",
       "    </tr>\n",
       "    <tr>\n",
       "      <td>3</td>\n",
       "      <td>8a858efd5ca70688015cabd1f1e94b55</td>\n",
       "      <td>1</td>\n",
       "      <td>GT Bank</td>\n",
       "      <td>0</td>\n",
       "      <td>4</td>\n",
       "      <td>0</td>\n",
       "    </tr>\n",
       "    <tr>\n",
       "      <td>4</td>\n",
       "      <td>8a858e785acd3412015acd48f4920d04</td>\n",
       "      <td>1</td>\n",
       "      <td>GT Bank</td>\n",
       "      <td>0</td>\n",
       "      <td>4</td>\n",
       "      <td>1</td>\n",
       "    </tr>\n",
       "  </tbody>\n",
       "</table>\n",
       "</div>"
      ],
      "text/plain": [
       "                         customerid  bank_account_type bank_name_clients  \\\n",
       "0  8a858e135cb22031015cbafc76964ebd                  1           GT Bank   \n",
       "1  8a858e275c7ea5ec015c82482d7c3996                  1     Sterling Bank   \n",
       "2  8a858e5b5bd99460015bdc95cd485634                  1     Fidelity Bank   \n",
       "3  8a858efd5ca70688015cabd1f1e94b55                  1           GT Bank   \n",
       "4  8a858e785acd3412015acd48f4920d04                  1           GT Bank   \n",
       "\n",
       "   employment_status_clients  level_of_education_clients  region  \n",
       "0                          6                           4       0  \n",
       "1                          0                           4       0  \n",
       "2                          6                           4       0  \n",
       "3                          0                           4       0  \n",
       "4                          0                           4       1  "
      ]
     },
     "execution_count": 30,
     "metadata": {},
     "output_type": "execute_result"
    }
   ],
   "source": [
    "train_demo.head()"
   ]
  },
  {
   "cell_type": "code",
   "execution_count": 31,
   "metadata": {},
   "outputs": [],
   "source": [
    "train_demo_1 = train_demo.drop(['customerid'], axis=1)\n",
    "train_demo_1 = train_demo.drop(['bank_name_clients'], axis=1)"
   ]
  },
  {
   "cell_type": "code",
   "execution_count": 32,
   "metadata": {},
   "outputs": [],
   "source": [
    "#train_demo_1 = pd.get_dummies(train_demo_1)"
   ]
  },
  {
   "cell_type": "code",
   "execution_count": 33,
   "metadata": {},
   "outputs": [
    {
     "data": {
      "text/html": [
       "<div>\n",
       "<style scoped>\n",
       "    .dataframe tbody tr th:only-of-type {\n",
       "        vertical-align: middle;\n",
       "    }\n",
       "\n",
       "    .dataframe tbody tr th {\n",
       "        vertical-align: top;\n",
       "    }\n",
       "\n",
       "    .dataframe thead th {\n",
       "        text-align: right;\n",
       "    }\n",
       "</style>\n",
       "<table border=\"1\" class=\"dataframe\">\n",
       "  <thead>\n",
       "    <tr style=\"text-align: right;\">\n",
       "      <th></th>\n",
       "      <th>customerid</th>\n",
       "      <th>bank_account_type</th>\n",
       "      <th>employment_status_clients</th>\n",
       "      <th>level_of_education_clients</th>\n",
       "      <th>region</th>\n",
       "    </tr>\n",
       "  </thead>\n",
       "  <tbody>\n",
       "    <tr>\n",
       "      <td>0</td>\n",
       "      <td>8a858e135cb22031015cbafc76964ebd</td>\n",
       "      <td>1</td>\n",
       "      <td>6</td>\n",
       "      <td>4</td>\n",
       "      <td>0</td>\n",
       "    </tr>\n",
       "    <tr>\n",
       "      <td>1</td>\n",
       "      <td>8a858e275c7ea5ec015c82482d7c3996</td>\n",
       "      <td>1</td>\n",
       "      <td>0</td>\n",
       "      <td>4</td>\n",
       "      <td>0</td>\n",
       "    </tr>\n",
       "    <tr>\n",
       "      <td>2</td>\n",
       "      <td>8a858e5b5bd99460015bdc95cd485634</td>\n",
       "      <td>1</td>\n",
       "      <td>6</td>\n",
       "      <td>4</td>\n",
       "      <td>0</td>\n",
       "    </tr>\n",
       "    <tr>\n",
       "      <td>3</td>\n",
       "      <td>8a858efd5ca70688015cabd1f1e94b55</td>\n",
       "      <td>1</td>\n",
       "      <td>0</td>\n",
       "      <td>4</td>\n",
       "      <td>0</td>\n",
       "    </tr>\n",
       "    <tr>\n",
       "      <td>4</td>\n",
       "      <td>8a858e785acd3412015acd48f4920d04</td>\n",
       "      <td>1</td>\n",
       "      <td>0</td>\n",
       "      <td>4</td>\n",
       "      <td>1</td>\n",
       "    </tr>\n",
       "  </tbody>\n",
       "</table>\n",
       "</div>"
      ],
      "text/plain": [
       "                         customerid  bank_account_type  \\\n",
       "0  8a858e135cb22031015cbafc76964ebd                  1   \n",
       "1  8a858e275c7ea5ec015c82482d7c3996                  1   \n",
       "2  8a858e5b5bd99460015bdc95cd485634                  1   \n",
       "3  8a858efd5ca70688015cabd1f1e94b55                  1   \n",
       "4  8a858e785acd3412015acd48f4920d04                  1   \n",
       "\n",
       "   employment_status_clients  level_of_education_clients  region  \n",
       "0                          6                           4       0  \n",
       "1                          0                           4       0  \n",
       "2                          6                           4       0  \n",
       "3                          0                           4       0  \n",
       "4                          0                           4       1  "
      ]
     },
     "execution_count": 33,
     "metadata": {},
     "output_type": "execute_result"
    }
   ],
   "source": [
    "train_demo_1.head()"
   ]
  },
  {
   "cell_type": "code",
   "execution_count": 34,
   "metadata": {},
   "outputs": [],
   "source": [
    "test_demo_1 = test_demo.drop(['customerid'], axis=1)\n",
    "test_demo_1 = test_demo.drop(['bank_name_clients'], axis=1)\n",
    "#test_demo_1 = pd.get_dummies(test_demo_1)"
   ]
  },
  {
   "cell_type": "code",
   "execution_count": 35,
   "metadata": {},
   "outputs": [],
   "source": [
    "train_demo_1['customerid'] = train_demo['customerid']\n",
    "test_demo_1['customerid'] = test_demo['customerid']"
   ]
  },
  {
   "cell_type": "code",
   "execution_count": 36,
   "metadata": {},
   "outputs": [],
   "source": [
    "train_demo = train_demo_1\n",
    "test_demo = test_demo_1"
   ]
  },
  {
   "cell_type": "code",
   "execution_count": 37,
   "metadata": {},
   "outputs": [
    {
     "data": {
      "text/html": [
       "<div>\n",
       "<style scoped>\n",
       "    .dataframe tbody tr th:only-of-type {\n",
       "        vertical-align: middle;\n",
       "    }\n",
       "\n",
       "    .dataframe tbody tr th {\n",
       "        vertical-align: top;\n",
       "    }\n",
       "\n",
       "    .dataframe thead th {\n",
       "        text-align: right;\n",
       "    }\n",
       "</style>\n",
       "<table border=\"1\" class=\"dataframe\">\n",
       "  <thead>\n",
       "    <tr style=\"text-align: right;\">\n",
       "      <th></th>\n",
       "      <th>customerid</th>\n",
       "      <th>bank_account_type</th>\n",
       "      <th>employment_status_clients</th>\n",
       "      <th>level_of_education_clients</th>\n",
       "      <th>region</th>\n",
       "    </tr>\n",
       "  </thead>\n",
       "  <tbody>\n",
       "    <tr>\n",
       "      <td>0</td>\n",
       "      <td>8a858e135cb22031015cbafc76964ebd</td>\n",
       "      <td>1</td>\n",
       "      <td>6</td>\n",
       "      <td>4</td>\n",
       "      <td>0</td>\n",
       "    </tr>\n",
       "    <tr>\n",
       "      <td>1</td>\n",
       "      <td>8a858e275c7ea5ec015c82482d7c3996</td>\n",
       "      <td>1</td>\n",
       "      <td>0</td>\n",
       "      <td>4</td>\n",
       "      <td>0</td>\n",
       "    </tr>\n",
       "    <tr>\n",
       "      <td>2</td>\n",
       "      <td>8a858e5b5bd99460015bdc95cd485634</td>\n",
       "      <td>1</td>\n",
       "      <td>6</td>\n",
       "      <td>4</td>\n",
       "      <td>0</td>\n",
       "    </tr>\n",
       "    <tr>\n",
       "      <td>3</td>\n",
       "      <td>8a858efd5ca70688015cabd1f1e94b55</td>\n",
       "      <td>1</td>\n",
       "      <td>0</td>\n",
       "      <td>4</td>\n",
       "      <td>0</td>\n",
       "    </tr>\n",
       "    <tr>\n",
       "      <td>4</td>\n",
       "      <td>8a858e785acd3412015acd48f4920d04</td>\n",
       "      <td>1</td>\n",
       "      <td>0</td>\n",
       "      <td>4</td>\n",
       "      <td>1</td>\n",
       "    </tr>\n",
       "  </tbody>\n",
       "</table>\n",
       "</div>"
      ],
      "text/plain": [
       "                         customerid  bank_account_type  \\\n",
       "0  8a858e135cb22031015cbafc76964ebd                  1   \n",
       "1  8a858e275c7ea5ec015c82482d7c3996                  1   \n",
       "2  8a858e5b5bd99460015bdc95cd485634                  1   \n",
       "3  8a858efd5ca70688015cabd1f1e94b55                  1   \n",
       "4  8a858e785acd3412015acd48f4920d04                  1   \n",
       "\n",
       "   employment_status_clients  level_of_education_clients  region  \n",
       "0                          6                           4       0  \n",
       "1                          0                           4       0  \n",
       "2                          6                           4       0  \n",
       "3                          0                           4       0  \n",
       "4                          0                           4       1  "
      ]
     },
     "execution_count": 37,
     "metadata": {},
     "output_type": "execute_result"
    }
   ],
   "source": [
    "train_demo.head()"
   ]
  },
  {
   "cell_type": "code",
   "execution_count": 38,
   "metadata": {},
   "outputs": [
    {
     "data": {
      "text/html": [
       "<div>\n",
       "<style scoped>\n",
       "    .dataframe tbody tr th:only-of-type {\n",
       "        vertical-align: middle;\n",
       "    }\n",
       "\n",
       "    .dataframe tbody tr th {\n",
       "        vertical-align: top;\n",
       "    }\n",
       "\n",
       "    .dataframe thead th {\n",
       "        text-align: right;\n",
       "    }\n",
       "</style>\n",
       "<table border=\"1\" class=\"dataframe\">\n",
       "  <thead>\n",
       "    <tr style=\"text-align: right;\">\n",
       "      <th></th>\n",
       "      <th>customerid</th>\n",
       "      <th>systemloanid</th>\n",
       "      <th>loannumber</th>\n",
       "      <th>approveddate</th>\n",
       "      <th>creationdate</th>\n",
       "      <th>loanamount</th>\n",
       "      <th>totaldue</th>\n",
       "      <th>termdays</th>\n",
       "      <th>closeddate</th>\n",
       "      <th>referredby</th>\n",
       "      <th>firstduedate</th>\n",
       "      <th>firstrepaiddate</th>\n",
       "    </tr>\n",
       "  </thead>\n",
       "  <tbody>\n",
       "    <tr>\n",
       "      <td>0</td>\n",
       "      <td>8a858899538ddb8e015390510b321f08</td>\n",
       "      <td>301621635</td>\n",
       "      <td>3</td>\n",
       "      <td>2016-05-17 10:37:00.000000</td>\n",
       "      <td>2016-05-17 09:36:55.000000</td>\n",
       "      <td>10000.0</td>\n",
       "      <td>13000.0</td>\n",
       "      <td>30</td>\n",
       "      <td>2016-06-17 00:04:15.000000</td>\n",
       "      <td>NaN</td>\n",
       "      <td>2016-06-16 00:00:00.000000</td>\n",
       "      <td>2016-06-16 15:44:08.000000</td>\n",
       "    </tr>\n",
       "    <tr>\n",
       "      <td>1</td>\n",
       "      <td>8a858959537a097401537a4e316e25f7</td>\n",
       "      <td>301810201</td>\n",
       "      <td>5</td>\n",
       "      <td>2017-02-04 21:28:59.000000</td>\n",
       "      <td>2017-02-04 20:28:52.000000</td>\n",
       "      <td>30000.0</td>\n",
       "      <td>36800.0</td>\n",
       "      <td>60</td>\n",
       "      <td>2017-03-02 16:22:58.000000</td>\n",
       "      <td>NaN</td>\n",
       "      <td>2017-03-06 00:00:00.000000</td>\n",
       "      <td>2017-03-02 16:07:47.000000</td>\n",
       "    </tr>\n",
       "    <tr>\n",
       "      <td>2</td>\n",
       "      <td>8a858959537a097401537a4e316e25f7</td>\n",
       "      <td>301831255</td>\n",
       "      <td>6</td>\n",
       "      <td>2017-03-04 10:28:22.000000</td>\n",
       "      <td>2017-03-04 09:28:16.000000</td>\n",
       "      <td>30000.0</td>\n",
       "      <td>34400.0</td>\n",
       "      <td>30</td>\n",
       "      <td>2017-04-02 00:44:24.000000</td>\n",
       "      <td>NaN</td>\n",
       "      <td>2017-04-03 00:00:00.000000</td>\n",
       "      <td>2017-04-01 21:29:46.000000</td>\n",
       "    </tr>\n",
       "    <tr>\n",
       "      <td>3</td>\n",
       "      <td>8a8589c253ace09b0153af6ba58f1f31</td>\n",
       "      <td>301627292</td>\n",
       "      <td>3</td>\n",
       "      <td>2016-06-02 14:27:14.000000</td>\n",
       "      <td>2016-06-02 13:27:08.000000</td>\n",
       "      <td>10000.0</td>\n",
       "      <td>13000.0</td>\n",
       "      <td>30</td>\n",
       "      <td>2016-07-04 11:34:04.000000</td>\n",
       "      <td>NaN</td>\n",
       "      <td>2016-07-04 00:00:00.000000</td>\n",
       "      <td>2016-07-04 11:19:01.000000</td>\n",
       "    </tr>\n",
       "    <tr>\n",
       "      <td>4</td>\n",
       "      <td>8a8589c253ace09b0153af6ba58f1f31</td>\n",
       "      <td>301621095</td>\n",
       "      <td>2</td>\n",
       "      <td>2016-05-16 09:13:12.000000</td>\n",
       "      <td>2016-05-16 08:13:04.000000</td>\n",
       "      <td>10000.0</td>\n",
       "      <td>11500.0</td>\n",
       "      <td>15</td>\n",
       "      <td>2016-06-02 00:02:58.000000</td>\n",
       "      <td>NaN</td>\n",
       "      <td>2016-05-31 00:00:00.000000</td>\n",
       "      <td>2016-06-01 15:22:34.000000</td>\n",
       "    </tr>\n",
       "  </tbody>\n",
       "</table>\n",
       "</div>"
      ],
      "text/plain": [
       "                         customerid  systemloanid  loannumber  \\\n",
       "0  8a858899538ddb8e015390510b321f08     301621635           3   \n",
       "1  8a858959537a097401537a4e316e25f7     301810201           5   \n",
       "2  8a858959537a097401537a4e316e25f7     301831255           6   \n",
       "3  8a8589c253ace09b0153af6ba58f1f31     301627292           3   \n",
       "4  8a8589c253ace09b0153af6ba58f1f31     301621095           2   \n",
       "\n",
       "                 approveddate                creationdate  loanamount  \\\n",
       "0  2016-05-17 10:37:00.000000  2016-05-17 09:36:55.000000     10000.0   \n",
       "1  2017-02-04 21:28:59.000000  2017-02-04 20:28:52.000000     30000.0   \n",
       "2  2017-03-04 10:28:22.000000  2017-03-04 09:28:16.000000     30000.0   \n",
       "3  2016-06-02 14:27:14.000000  2016-06-02 13:27:08.000000     10000.0   \n",
       "4  2016-05-16 09:13:12.000000  2016-05-16 08:13:04.000000     10000.0   \n",
       "\n",
       "   totaldue  termdays                  closeddate referredby  \\\n",
       "0   13000.0        30  2016-06-17 00:04:15.000000        NaN   \n",
       "1   36800.0        60  2017-03-02 16:22:58.000000        NaN   \n",
       "2   34400.0        30  2017-04-02 00:44:24.000000        NaN   \n",
       "3   13000.0        30  2016-07-04 11:34:04.000000        NaN   \n",
       "4   11500.0        15  2016-06-02 00:02:58.000000        NaN   \n",
       "\n",
       "                 firstduedate             firstrepaiddate  \n",
       "0  2016-06-16 00:00:00.000000  2016-06-16 15:44:08.000000  \n",
       "1  2017-03-06 00:00:00.000000  2017-03-02 16:07:47.000000  \n",
       "2  2017-04-03 00:00:00.000000  2017-04-01 21:29:46.000000  \n",
       "3  2016-07-04 00:00:00.000000  2016-07-04 11:19:01.000000  \n",
       "4  2016-05-31 00:00:00.000000  2016-06-01 15:22:34.000000  "
      ]
     },
     "execution_count": 38,
     "metadata": {},
     "output_type": "execute_result"
    }
   ],
   "source": [
    "# working on testprevloans\n",
    "test_prev.head()"
   ]
  },
  {
   "cell_type": "code",
   "execution_count": 39,
   "metadata": {},
   "outputs": [
    {
     "data": {
      "text/plain": [
       "1     4344\n",
       "2     2969\n",
       "3     2300\n",
       "4     1860\n",
       "5     1535\n",
       "6     1288\n",
       "7     1036\n",
       "8      817\n",
       "9      637\n",
       "10     446\n",
       "11     333\n",
       "12     223\n",
       "13     146\n",
       "14      96\n",
       "15      54\n",
       "16      33\n",
       "17      19\n",
       "18      16\n",
       "19      10\n",
       "20       8\n",
       "21       7\n",
       "22       2\n",
       "23       1\n",
       "24       1\n",
       "25       1\n",
       "26       1\n",
       "Name: loannumber, dtype: int64"
      ]
     },
     "execution_count": 39,
     "metadata": {},
     "output_type": "execute_result"
    }
   ],
   "source": [
    "# investigate loan number\n",
    "train_prev['loannumber'].value_counts()"
   ]
  },
  {
   "cell_type": "code",
   "execution_count": 40,
   "metadata": {},
   "outputs": [],
   "source": [
    "# do not understand functionality of loan number\n",
    "train_prev = train_prev.drop(['loannumber'], axis=1)\n",
    "test_prev = test_prev.drop(['loannumber'], axis=1)"
   ]
  },
  {
   "cell_type": "code",
   "execution_count": 41,
   "metadata": {},
   "outputs": [
    {
     "data": {
      "text/html": [
       "<div>\n",
       "<style scoped>\n",
       "    .dataframe tbody tr th:only-of-type {\n",
       "        vertical-align: middle;\n",
       "    }\n",
       "\n",
       "    .dataframe tbody tr th {\n",
       "        vertical-align: top;\n",
       "    }\n",
       "\n",
       "    .dataframe thead th {\n",
       "        text-align: right;\n",
       "    }\n",
       "</style>\n",
       "<table border=\"1\" class=\"dataframe\">\n",
       "  <thead>\n",
       "    <tr style=\"text-align: right;\">\n",
       "      <th></th>\n",
       "      <th>customerid</th>\n",
       "      <th>systemloanid</th>\n",
       "      <th>approveddate</th>\n",
       "      <th>creationdate</th>\n",
       "      <th>loanamount</th>\n",
       "      <th>totaldue</th>\n",
       "      <th>termdays</th>\n",
       "      <th>closeddate</th>\n",
       "      <th>referredby</th>\n",
       "      <th>firstduedate</th>\n",
       "      <th>firstrepaiddate</th>\n",
       "    </tr>\n",
       "  </thead>\n",
       "  <tbody>\n",
       "    <tr>\n",
       "      <td>0</td>\n",
       "      <td>8a2a81a74ce8c05d014cfb32a0da1049</td>\n",
       "      <td>301682320</td>\n",
       "      <td>2016-08-15 18:22:40.000000</td>\n",
       "      <td>2016-08-15 17:22:32.000000</td>\n",
       "      <td>10000.0</td>\n",
       "      <td>13000.0</td>\n",
       "      <td>30</td>\n",
       "      <td>2016-09-01 16:06:48.000000</td>\n",
       "      <td>NaN</td>\n",
       "      <td>2016-09-14 00:00:00.000000</td>\n",
       "      <td>2016-09-01 15:51:43.000000</td>\n",
       "    </tr>\n",
       "    <tr>\n",
       "      <td>1</td>\n",
       "      <td>8a2a81a74ce8c05d014cfb32a0da1049</td>\n",
       "      <td>301883808</td>\n",
       "      <td>2017-04-28 18:39:07.000000</td>\n",
       "      <td>2017-04-28 17:38:53.000000</td>\n",
       "      <td>10000.0</td>\n",
       "      <td>13000.0</td>\n",
       "      <td>30</td>\n",
       "      <td>2017-05-28 14:44:49.000000</td>\n",
       "      <td>NaN</td>\n",
       "      <td>2017-05-30 00:00:00.000000</td>\n",
       "      <td>2017-05-26 00:00:00.000000</td>\n",
       "    </tr>\n",
       "    <tr>\n",
       "      <td>2</td>\n",
       "      <td>8a2a81a74ce8c05d014cfb32a0da1049</td>\n",
       "      <td>301831714</td>\n",
       "      <td>2017-03-05 10:56:25.000000</td>\n",
       "      <td>2017-03-05 09:56:19.000000</td>\n",
       "      <td>20000.0</td>\n",
       "      <td>23800.0</td>\n",
       "      <td>30</td>\n",
       "      <td>2017-04-26 22:18:56.000000</td>\n",
       "      <td>NaN</td>\n",
       "      <td>2017-04-04 00:00:00.000000</td>\n",
       "      <td>2017-04-26 22:03:47.000000</td>\n",
       "    </tr>\n",
       "    <tr>\n",
       "      <td>3</td>\n",
       "      <td>8a8588f35438fe12015444567666018e</td>\n",
       "      <td>301861541</td>\n",
       "      <td>2017-04-09 18:25:55.000000</td>\n",
       "      <td>2017-04-09 17:25:42.000000</td>\n",
       "      <td>10000.0</td>\n",
       "      <td>11500.0</td>\n",
       "      <td>15</td>\n",
       "      <td>2017-04-24 01:35:52.000000</td>\n",
       "      <td>NaN</td>\n",
       "      <td>2017-04-24 00:00:00.000000</td>\n",
       "      <td>2017-04-24 00:48:43.000000</td>\n",
       "    </tr>\n",
       "    <tr>\n",
       "      <td>4</td>\n",
       "      <td>8a85890754145ace015429211b513e16</td>\n",
       "      <td>301941754</td>\n",
       "      <td>2017-06-17 09:29:57.000000</td>\n",
       "      <td>2017-06-17 08:29:50.000000</td>\n",
       "      <td>10000.0</td>\n",
       "      <td>11500.0</td>\n",
       "      <td>15</td>\n",
       "      <td>2017-07-14 21:18:43.000000</td>\n",
       "      <td>NaN</td>\n",
       "      <td>2017-07-03 00:00:00.000000</td>\n",
       "      <td>2017-07-14 21:08:35.000000</td>\n",
       "    </tr>\n",
       "  </tbody>\n",
       "</table>\n",
       "</div>"
      ],
      "text/plain": [
       "                         customerid  systemloanid                approveddate  \\\n",
       "0  8a2a81a74ce8c05d014cfb32a0da1049     301682320  2016-08-15 18:22:40.000000   \n",
       "1  8a2a81a74ce8c05d014cfb32a0da1049     301883808  2017-04-28 18:39:07.000000   \n",
       "2  8a2a81a74ce8c05d014cfb32a0da1049     301831714  2017-03-05 10:56:25.000000   \n",
       "3  8a8588f35438fe12015444567666018e     301861541  2017-04-09 18:25:55.000000   \n",
       "4  8a85890754145ace015429211b513e16     301941754  2017-06-17 09:29:57.000000   \n",
       "\n",
       "                 creationdate  loanamount  totaldue  termdays  \\\n",
       "0  2016-08-15 17:22:32.000000     10000.0   13000.0        30   \n",
       "1  2017-04-28 17:38:53.000000     10000.0   13000.0        30   \n",
       "2  2017-03-05 09:56:19.000000     20000.0   23800.0        30   \n",
       "3  2017-04-09 17:25:42.000000     10000.0   11500.0        15   \n",
       "4  2017-06-17 08:29:50.000000     10000.0   11500.0        15   \n",
       "\n",
       "                   closeddate referredby                firstduedate  \\\n",
       "0  2016-09-01 16:06:48.000000        NaN  2016-09-14 00:00:00.000000   \n",
       "1  2017-05-28 14:44:49.000000        NaN  2017-05-30 00:00:00.000000   \n",
       "2  2017-04-26 22:18:56.000000        NaN  2017-04-04 00:00:00.000000   \n",
       "3  2017-04-24 01:35:52.000000        NaN  2017-04-24 00:00:00.000000   \n",
       "4  2017-07-14 21:18:43.000000        NaN  2017-07-03 00:00:00.000000   \n",
       "\n",
       "              firstrepaiddate  \n",
       "0  2016-09-01 15:51:43.000000  \n",
       "1  2017-05-26 00:00:00.000000  \n",
       "2  2017-04-26 22:03:47.000000  \n",
       "3  2017-04-24 00:48:43.000000  \n",
       "4  2017-07-14 21:08:35.000000  "
      ]
     },
     "execution_count": 41,
     "metadata": {},
     "output_type": "execute_result"
    }
   ],
   "source": [
    "train_prev.head()"
   ]
  },
  {
   "cell_type": "code",
   "execution_count": 42,
   "metadata": {},
   "outputs": [],
   "source": [
    "train_perf = train_perf.drop(['loannumber'], axis=1)\n",
    "test_perf = test_perf.drop(['loannumber'], axis=1)"
   ]
  },
  {
   "cell_type": "code",
   "execution_count": 43,
   "metadata": {},
   "outputs": [],
   "source": [
    "# converting to datetime\n",
    "combine_prev = [train_prev,test_prev]\n",
    "for dataset in combine_prev:\n",
    "    dataset['approveddate'] = pd.to_datetime(dataset['approveddate']) \n",
    "    dataset['creationdate'] = pd.to_datetime(dataset['creationdate'])\n",
    "    dataset['closeddate'] = pd.to_datetime(dataset['closeddate'])\n",
    "    dataset['firstduedate'] = pd.to_datetime(dataset['firstduedate'])\n",
    "    dataset['firstrepaiddate'] = pd.to_datetime(dataset['firstrepaiddate'])"
   ]
  },
  {
   "cell_type": "code",
   "execution_count": 44,
   "metadata": {},
   "outputs": [],
   "source": [
    "# create date - approve date\n",
    "\n",
    "combine_prev = [train_prev,test_prev]\n",
    "for dataset in combine_prev:\n",
    "    dataset['approval_length'] = dataset['approveddate'] - dataset['creationdate'] "
   ]
  },
  {
   "cell_type": "code",
   "execution_count": 45,
   "metadata": {},
   "outputs": [],
   "source": [
    "# close date - approve date\n",
    "\n",
    "combine_prev = [train_prev,test_prev]\n",
    "for dataset in combine_prev:\n",
    "    dataset['loan_length'] = dataset['closeddate'] - dataset['approveddate'] "
   ]
  },
  {
   "cell_type": "code",
   "execution_count": 46,
   "metadata": {},
   "outputs": [],
   "source": [
    "# first repaid date - approve date\n",
    "combine_prev = [train_prev,test_prev]\n",
    "for dataset in combine_prev:\n",
    "    dataset['first_pay_length'] = dataset['firstrepaiddate'] - dataset['approveddate'] \n"
   ]
  },
  {
   "cell_type": "code",
   "execution_count": 47,
   "metadata": {},
   "outputs": [
    {
     "data": {
      "text/html": [
       "<div>\n",
       "<style scoped>\n",
       "    .dataframe tbody tr th:only-of-type {\n",
       "        vertical-align: middle;\n",
       "    }\n",
       "\n",
       "    .dataframe tbody tr th {\n",
       "        vertical-align: top;\n",
       "    }\n",
       "\n",
       "    .dataframe thead th {\n",
       "        text-align: right;\n",
       "    }\n",
       "</style>\n",
       "<table border=\"1\" class=\"dataframe\">\n",
       "  <thead>\n",
       "    <tr style=\"text-align: right;\">\n",
       "      <th></th>\n",
       "      <th>customerid</th>\n",
       "      <th>systemloanid</th>\n",
       "      <th>approveddate</th>\n",
       "      <th>creationdate</th>\n",
       "      <th>loanamount</th>\n",
       "      <th>totaldue</th>\n",
       "      <th>termdays</th>\n",
       "      <th>closeddate</th>\n",
       "      <th>referredby</th>\n",
       "      <th>firstduedate</th>\n",
       "      <th>firstrepaiddate</th>\n",
       "      <th>approval_length</th>\n",
       "      <th>loan_length</th>\n",
       "      <th>first_pay_length</th>\n",
       "    </tr>\n",
       "  </thead>\n",
       "  <tbody>\n",
       "    <tr>\n",
       "      <td>0</td>\n",
       "      <td>8a2a81a74ce8c05d014cfb32a0da1049</td>\n",
       "      <td>301682320</td>\n",
       "      <td>2016-08-15 18:22:40</td>\n",
       "      <td>2016-08-15 17:22:32</td>\n",
       "      <td>10000.0</td>\n",
       "      <td>13000.0</td>\n",
       "      <td>30</td>\n",
       "      <td>2016-09-01 16:06:48</td>\n",
       "      <td>NaN</td>\n",
       "      <td>2016-09-14</td>\n",
       "      <td>2016-09-01 15:51:43</td>\n",
       "      <td>01:00:08</td>\n",
       "      <td>16 days 21:44:08</td>\n",
       "      <td>16 days 21:29:03</td>\n",
       "    </tr>\n",
       "    <tr>\n",
       "      <td>1</td>\n",
       "      <td>8a2a81a74ce8c05d014cfb32a0da1049</td>\n",
       "      <td>301883808</td>\n",
       "      <td>2017-04-28 18:39:07</td>\n",
       "      <td>2017-04-28 17:38:53</td>\n",
       "      <td>10000.0</td>\n",
       "      <td>13000.0</td>\n",
       "      <td>30</td>\n",
       "      <td>2017-05-28 14:44:49</td>\n",
       "      <td>NaN</td>\n",
       "      <td>2017-05-30</td>\n",
       "      <td>2017-05-26 00:00:00</td>\n",
       "      <td>01:00:14</td>\n",
       "      <td>29 days 20:05:42</td>\n",
       "      <td>27 days 05:20:53</td>\n",
       "    </tr>\n",
       "    <tr>\n",
       "      <td>2</td>\n",
       "      <td>8a2a81a74ce8c05d014cfb32a0da1049</td>\n",
       "      <td>301831714</td>\n",
       "      <td>2017-03-05 10:56:25</td>\n",
       "      <td>2017-03-05 09:56:19</td>\n",
       "      <td>20000.0</td>\n",
       "      <td>23800.0</td>\n",
       "      <td>30</td>\n",
       "      <td>2017-04-26 22:18:56</td>\n",
       "      <td>NaN</td>\n",
       "      <td>2017-04-04</td>\n",
       "      <td>2017-04-26 22:03:47</td>\n",
       "      <td>01:00:06</td>\n",
       "      <td>52 days 11:22:31</td>\n",
       "      <td>52 days 11:07:22</td>\n",
       "    </tr>\n",
       "    <tr>\n",
       "      <td>3</td>\n",
       "      <td>8a8588f35438fe12015444567666018e</td>\n",
       "      <td>301861541</td>\n",
       "      <td>2017-04-09 18:25:55</td>\n",
       "      <td>2017-04-09 17:25:42</td>\n",
       "      <td>10000.0</td>\n",
       "      <td>11500.0</td>\n",
       "      <td>15</td>\n",
       "      <td>2017-04-24 01:35:52</td>\n",
       "      <td>NaN</td>\n",
       "      <td>2017-04-24</td>\n",
       "      <td>2017-04-24 00:48:43</td>\n",
       "      <td>01:00:13</td>\n",
       "      <td>14 days 07:09:57</td>\n",
       "      <td>14 days 06:22:48</td>\n",
       "    </tr>\n",
       "    <tr>\n",
       "      <td>4</td>\n",
       "      <td>8a85890754145ace015429211b513e16</td>\n",
       "      <td>301941754</td>\n",
       "      <td>2017-06-17 09:29:57</td>\n",
       "      <td>2017-06-17 08:29:50</td>\n",
       "      <td>10000.0</td>\n",
       "      <td>11500.0</td>\n",
       "      <td>15</td>\n",
       "      <td>2017-07-14 21:18:43</td>\n",
       "      <td>NaN</td>\n",
       "      <td>2017-07-03</td>\n",
       "      <td>2017-07-14 21:08:35</td>\n",
       "      <td>01:00:07</td>\n",
       "      <td>27 days 11:48:46</td>\n",
       "      <td>27 days 11:38:38</td>\n",
       "    </tr>\n",
       "  </tbody>\n",
       "</table>\n",
       "</div>"
      ],
      "text/plain": [
       "                         customerid  systemloanid        approveddate  \\\n",
       "0  8a2a81a74ce8c05d014cfb32a0da1049     301682320 2016-08-15 18:22:40   \n",
       "1  8a2a81a74ce8c05d014cfb32a0da1049     301883808 2017-04-28 18:39:07   \n",
       "2  8a2a81a74ce8c05d014cfb32a0da1049     301831714 2017-03-05 10:56:25   \n",
       "3  8a8588f35438fe12015444567666018e     301861541 2017-04-09 18:25:55   \n",
       "4  8a85890754145ace015429211b513e16     301941754 2017-06-17 09:29:57   \n",
       "\n",
       "         creationdate  loanamount  totaldue  termdays          closeddate  \\\n",
       "0 2016-08-15 17:22:32     10000.0   13000.0        30 2016-09-01 16:06:48   \n",
       "1 2017-04-28 17:38:53     10000.0   13000.0        30 2017-05-28 14:44:49   \n",
       "2 2017-03-05 09:56:19     20000.0   23800.0        30 2017-04-26 22:18:56   \n",
       "3 2017-04-09 17:25:42     10000.0   11500.0        15 2017-04-24 01:35:52   \n",
       "4 2017-06-17 08:29:50     10000.0   11500.0        15 2017-07-14 21:18:43   \n",
       "\n",
       "  referredby firstduedate     firstrepaiddate approval_length  \\\n",
       "0        NaN   2016-09-14 2016-09-01 15:51:43        01:00:08   \n",
       "1        NaN   2017-05-30 2017-05-26 00:00:00        01:00:14   \n",
       "2        NaN   2017-04-04 2017-04-26 22:03:47        01:00:06   \n",
       "3        NaN   2017-04-24 2017-04-24 00:48:43        01:00:13   \n",
       "4        NaN   2017-07-03 2017-07-14 21:08:35        01:00:07   \n",
       "\n",
       "       loan_length first_pay_length  \n",
       "0 16 days 21:44:08 16 days 21:29:03  \n",
       "1 29 days 20:05:42 27 days 05:20:53  \n",
       "2 52 days 11:22:31 52 days 11:07:22  \n",
       "3 14 days 07:09:57 14 days 06:22:48  \n",
       "4 27 days 11:48:46 27 days 11:38:38  "
      ]
     },
     "execution_count": 47,
     "metadata": {},
     "output_type": "execute_result"
    }
   ],
   "source": [
    "train_prev.head()"
   ]
  },
  {
   "cell_type": "code",
   "execution_count": 48,
   "metadata": {},
   "outputs": [],
   "source": [
    "# drop dates\n",
    "train_prev = train_prev.drop(['approveddate', 'creationdate','closeddate','firstduedate','firstrepaiddate'], axis=1)\n",
    "test_prev = test_prev.drop(['approveddate', 'creationdate','closeddate','firstduedate','firstrepaiddate'], axis=1)"
   ]
  },
  {
   "cell_type": "code",
   "execution_count": 49,
   "metadata": {},
   "outputs": [
    {
     "data": {
      "text/html": [
       "<div>\n",
       "<style scoped>\n",
       "    .dataframe tbody tr th:only-of-type {\n",
       "        vertical-align: middle;\n",
       "    }\n",
       "\n",
       "    .dataframe tbody tr th {\n",
       "        vertical-align: top;\n",
       "    }\n",
       "\n",
       "    .dataframe thead th {\n",
       "        text-align: right;\n",
       "    }\n",
       "</style>\n",
       "<table border=\"1\" class=\"dataframe\">\n",
       "  <thead>\n",
       "    <tr style=\"text-align: right;\">\n",
       "      <th></th>\n",
       "      <th>customerid</th>\n",
       "      <th>systemloanid</th>\n",
       "      <th>loanamount</th>\n",
       "      <th>totaldue</th>\n",
       "      <th>termdays</th>\n",
       "      <th>referredby</th>\n",
       "      <th>approval_length</th>\n",
       "      <th>loan_length</th>\n",
       "      <th>first_pay_length</th>\n",
       "    </tr>\n",
       "  </thead>\n",
       "  <tbody>\n",
       "    <tr>\n",
       "      <td>0</td>\n",
       "      <td>8a2a81a74ce8c05d014cfb32a0da1049</td>\n",
       "      <td>301682320</td>\n",
       "      <td>10000.0</td>\n",
       "      <td>13000.0</td>\n",
       "      <td>30</td>\n",
       "      <td>NaN</td>\n",
       "      <td>01:00:08</td>\n",
       "      <td>16 days 21:44:08</td>\n",
       "      <td>16 days 21:29:03</td>\n",
       "    </tr>\n",
       "    <tr>\n",
       "      <td>1</td>\n",
       "      <td>8a2a81a74ce8c05d014cfb32a0da1049</td>\n",
       "      <td>301883808</td>\n",
       "      <td>10000.0</td>\n",
       "      <td>13000.0</td>\n",
       "      <td>30</td>\n",
       "      <td>NaN</td>\n",
       "      <td>01:00:14</td>\n",
       "      <td>29 days 20:05:42</td>\n",
       "      <td>27 days 05:20:53</td>\n",
       "    </tr>\n",
       "    <tr>\n",
       "      <td>2</td>\n",
       "      <td>8a2a81a74ce8c05d014cfb32a0da1049</td>\n",
       "      <td>301831714</td>\n",
       "      <td>20000.0</td>\n",
       "      <td>23800.0</td>\n",
       "      <td>30</td>\n",
       "      <td>NaN</td>\n",
       "      <td>01:00:06</td>\n",
       "      <td>52 days 11:22:31</td>\n",
       "      <td>52 days 11:07:22</td>\n",
       "    </tr>\n",
       "    <tr>\n",
       "      <td>3</td>\n",
       "      <td>8a8588f35438fe12015444567666018e</td>\n",
       "      <td>301861541</td>\n",
       "      <td>10000.0</td>\n",
       "      <td>11500.0</td>\n",
       "      <td>15</td>\n",
       "      <td>NaN</td>\n",
       "      <td>01:00:13</td>\n",
       "      <td>14 days 07:09:57</td>\n",
       "      <td>14 days 06:22:48</td>\n",
       "    </tr>\n",
       "    <tr>\n",
       "      <td>4</td>\n",
       "      <td>8a85890754145ace015429211b513e16</td>\n",
       "      <td>301941754</td>\n",
       "      <td>10000.0</td>\n",
       "      <td>11500.0</td>\n",
       "      <td>15</td>\n",
       "      <td>NaN</td>\n",
       "      <td>01:00:07</td>\n",
       "      <td>27 days 11:48:46</td>\n",
       "      <td>27 days 11:38:38</td>\n",
       "    </tr>\n",
       "  </tbody>\n",
       "</table>\n",
       "</div>"
      ],
      "text/plain": [
       "                         customerid  systemloanid  loanamount  totaldue  \\\n",
       "0  8a2a81a74ce8c05d014cfb32a0da1049     301682320     10000.0   13000.0   \n",
       "1  8a2a81a74ce8c05d014cfb32a0da1049     301883808     10000.0   13000.0   \n",
       "2  8a2a81a74ce8c05d014cfb32a0da1049     301831714     20000.0   23800.0   \n",
       "3  8a8588f35438fe12015444567666018e     301861541     10000.0   11500.0   \n",
       "4  8a85890754145ace015429211b513e16     301941754     10000.0   11500.0   \n",
       "\n",
       "   termdays referredby approval_length      loan_length first_pay_length  \n",
       "0        30        NaN        01:00:08 16 days 21:44:08 16 days 21:29:03  \n",
       "1        30        NaN        01:00:14 29 days 20:05:42 27 days 05:20:53  \n",
       "2        30        NaN        01:00:06 52 days 11:22:31 52 days 11:07:22  \n",
       "3        15        NaN        01:00:13 14 days 07:09:57 14 days 06:22:48  \n",
       "4        15        NaN        01:00:07 27 days 11:48:46 27 days 11:38:38  "
      ]
     },
     "execution_count": 49,
     "metadata": {},
     "output_type": "execute_result"
    }
   ],
   "source": [
    "train_prev.head()"
   ]
  },
  {
   "cell_type": "code",
   "execution_count": 50,
   "metadata": {},
   "outputs": [
    {
     "data": {
      "text/html": [
       "<div>\n",
       "<style scoped>\n",
       "    .dataframe tbody tr th:only-of-type {\n",
       "        vertical-align: middle;\n",
       "    }\n",
       "\n",
       "    .dataframe tbody tr th {\n",
       "        vertical-align: top;\n",
       "    }\n",
       "\n",
       "    .dataframe thead th {\n",
       "        text-align: right;\n",
       "    }\n",
       "</style>\n",
       "<table border=\"1\" class=\"dataframe\">\n",
       "  <thead>\n",
       "    <tr style=\"text-align: right;\">\n",
       "      <th></th>\n",
       "      <th>loanamount</th>\n",
       "      <th>totaldue</th>\n",
       "    </tr>\n",
       "  </thead>\n",
       "  <tbody>\n",
       "    <tr>\n",
       "      <td>loanamount</td>\n",
       "      <td>1.000000</td>\n",
       "      <td>0.995142</td>\n",
       "    </tr>\n",
       "    <tr>\n",
       "      <td>totaldue</td>\n",
       "      <td>0.995142</td>\n",
       "      <td>1.000000</td>\n",
       "    </tr>\n",
       "  </tbody>\n",
       "</table>\n",
       "</div>"
      ],
      "text/plain": [
       "            loanamount  totaldue\n",
       "loanamount    1.000000  0.995142\n",
       "totaldue      0.995142  1.000000"
      ]
     },
     "execution_count": 50,
     "metadata": {},
     "output_type": "execute_result"
    }
   ],
   "source": [
    "# correlation between loan amount and total due\n",
    "train_prev[['loanamount','totaldue']].corr()"
   ]
  },
  {
   "cell_type": "code",
   "execution_count": 51,
   "metadata": {},
   "outputs": [],
   "source": [
    "# drop feature\n",
    "train_perf = train_perf.drop(['totaldue'], axis=1)\n",
    "test_perf = test_perf.drop(['totaldue'], axis=1)\n",
    "train_prev = train_prev.drop(['totaldue'], axis=1)\n",
    "test_prev = test_prev.drop(['totaldue'], axis=1)"
   ]
  },
  {
   "cell_type": "code",
   "execution_count": 52,
   "metadata": {},
   "outputs": [
    {
     "data": {
      "text/plain": [
       "10000.0    10529\n",
       "20000.0     3524\n",
       "30000.0     2452\n",
       "40000.0      867\n",
       "15000.0      394\n",
       "50000.0      106\n",
       "25000.0      100\n",
       "5000.0        95\n",
       "8000.0        38\n",
       "35000.0       27\n",
       "6000.0        19\n",
       "7000.0        11\n",
       "9000.0         9\n",
       "60000.0        5\n",
       "4000.0         5\n",
       "3000.0         2\n",
       "Name: loanamount, dtype: int64"
      ]
     },
     "execution_count": 52,
     "metadata": {},
     "output_type": "execute_result"
    }
   ],
   "source": [
    "# investigate loan numb amount\n",
    "train_prev['loanamount'].value_counts()"
   ]
  },
  {
   "cell_type": "code",
   "execution_count": 53,
   "metadata": {},
   "outputs": [],
   "source": [
    "# mask loan amount\n",
    "low_loan = [3000,4000,5000,6000,7000,8000]\n",
    "med_loan = [9000,10000,15000,20000,25000]\n",
    "high_loan = [30000,35000,40000,45000,50000]\n",
    "combine_prev = [train_prev, test_prev]\n",
    "for dataset in combine_prev:\n",
    "    dataset['loanamount'] = dataset['loanamount'].replace(low_loan,0)\n",
    "    dataset['loanamount'] = dataset['loanamount'].replace(med_loan,1)\n",
    "    dataset['loanamount'] = dataset['loanamount'].replace(high_loan,2)"
   ]
  },
  {
   "cell_type": "code",
   "execution_count": 54,
   "metadata": {},
   "outputs": [],
   "source": [
    "# mask loan amount\n",
    "low_loan = [3000,4000,5000,6000,7000,8000]\n",
    "med_loan = [9000,10000,15000,20000,25000]\n",
    "high_loan = [30000,35000,40000,45000,50000]\n",
    "combine_perf = [train_perf, test_perf]\n",
    "for dataset in combine_perf:\n",
    "    dataset['loanamount'] = dataset['loanamount'].replace(low_loan,0)\n",
    "    dataset['loanamount'] = dataset['loanamount'].replace(med_loan,1)\n",
    "    dataset['loanamount'] = dataset['loanamount'].replace(high_loan,2)"
   ]
  },
  {
   "cell_type": "code",
   "execution_count": 56,
   "metadata": {},
   "outputs": [],
   "source": [
    "#  drop referred by\n",
    "train_prev = train_prev.drop(['referredby'], axis=1)\n",
    "test_prev = test_prev.drop(['referredby'], axis=1)\n",
    "train_perf = train_perf.drop(['referredby'], axis=1)\n",
    "test_perf = test_perf.drop(['referredby'], axis=1)"
   ]
  },
  {
   "cell_type": "code",
   "execution_count": 57,
   "metadata": {},
   "outputs": [
    {
     "data": {
      "text/html": [
       "<div>\n",
       "<style scoped>\n",
       "    .dataframe tbody tr th:only-of-type {\n",
       "        vertical-align: middle;\n",
       "    }\n",
       "\n",
       "    .dataframe tbody tr th {\n",
       "        vertical-align: top;\n",
       "    }\n",
       "\n",
       "    .dataframe thead th {\n",
       "        text-align: right;\n",
       "    }\n",
       "</style>\n",
       "<table border=\"1\" class=\"dataframe\">\n",
       "  <thead>\n",
       "    <tr style=\"text-align: right;\">\n",
       "      <th></th>\n",
       "      <th>customerid</th>\n",
       "      <th>systemloanid</th>\n",
       "      <th>loanamount</th>\n",
       "      <th>termdays</th>\n",
       "      <th>approval_length</th>\n",
       "      <th>loan_length</th>\n",
       "      <th>first_pay_length</th>\n",
       "    </tr>\n",
       "  </thead>\n",
       "  <tbody>\n",
       "    <tr>\n",
       "      <td>0</td>\n",
       "      <td>8a2a81a74ce8c05d014cfb32a0da1049</td>\n",
       "      <td>301682320</td>\n",
       "      <td>1.0</td>\n",
       "      <td>30</td>\n",
       "      <td>01:00:08</td>\n",
       "      <td>16 days 21:44:08</td>\n",
       "      <td>16 days 21:29:03</td>\n",
       "    </tr>\n",
       "    <tr>\n",
       "      <td>1</td>\n",
       "      <td>8a2a81a74ce8c05d014cfb32a0da1049</td>\n",
       "      <td>301883808</td>\n",
       "      <td>1.0</td>\n",
       "      <td>30</td>\n",
       "      <td>01:00:14</td>\n",
       "      <td>29 days 20:05:42</td>\n",
       "      <td>27 days 05:20:53</td>\n",
       "    </tr>\n",
       "    <tr>\n",
       "      <td>2</td>\n",
       "      <td>8a2a81a74ce8c05d014cfb32a0da1049</td>\n",
       "      <td>301831714</td>\n",
       "      <td>1.0</td>\n",
       "      <td>30</td>\n",
       "      <td>01:00:06</td>\n",
       "      <td>52 days 11:22:31</td>\n",
       "      <td>52 days 11:07:22</td>\n",
       "    </tr>\n",
       "    <tr>\n",
       "      <td>3</td>\n",
       "      <td>8a8588f35438fe12015444567666018e</td>\n",
       "      <td>301861541</td>\n",
       "      <td>1.0</td>\n",
       "      <td>15</td>\n",
       "      <td>01:00:13</td>\n",
       "      <td>14 days 07:09:57</td>\n",
       "      <td>14 days 06:22:48</td>\n",
       "    </tr>\n",
       "    <tr>\n",
       "      <td>4</td>\n",
       "      <td>8a85890754145ace015429211b513e16</td>\n",
       "      <td>301941754</td>\n",
       "      <td>1.0</td>\n",
       "      <td>15</td>\n",
       "      <td>01:00:07</td>\n",
       "      <td>27 days 11:48:46</td>\n",
       "      <td>27 days 11:38:38</td>\n",
       "    </tr>\n",
       "  </tbody>\n",
       "</table>\n",
       "</div>"
      ],
      "text/plain": [
       "                         customerid  systemloanid  loanamount  termdays  \\\n",
       "0  8a2a81a74ce8c05d014cfb32a0da1049     301682320         1.0        30   \n",
       "1  8a2a81a74ce8c05d014cfb32a0da1049     301883808         1.0        30   \n",
       "2  8a2a81a74ce8c05d014cfb32a0da1049     301831714         1.0        30   \n",
       "3  8a8588f35438fe12015444567666018e     301861541         1.0        15   \n",
       "4  8a85890754145ace015429211b513e16     301941754         1.0        15   \n",
       "\n",
       "  approval_length      loan_length first_pay_length  \n",
       "0        01:00:08 16 days 21:44:08 16 days 21:29:03  \n",
       "1        01:00:14 29 days 20:05:42 27 days 05:20:53  \n",
       "2        01:00:06 52 days 11:22:31 52 days 11:07:22  \n",
       "3        01:00:13 14 days 07:09:57 14 days 06:22:48  \n",
       "4        01:00:07 27 days 11:48:46 27 days 11:38:38  "
      ]
     },
     "execution_count": 57,
     "metadata": {},
     "output_type": "execute_result"
    }
   ],
   "source": [
    "train_prev.head()"
   ]
  },
  {
   "cell_type": "code",
   "execution_count": 58,
   "metadata": {},
   "outputs": [],
   "source": [
    "# map term days\n",
    "combine_prev = [train_prev,test_prev]\n",
    "for dataset in combine_prev:\n",
    "    dataset['termdays'] = dataset['termdays'].replace({15: 0, 30: 1, 60: 2, 90:3})"
   ]
  },
  {
   "cell_type": "code",
   "execution_count": 59,
   "metadata": {},
   "outputs": [],
   "source": [
    "# map term days\n",
    "combine_perf = [train_perf,test_perf]\n",
    "for dataset in combine_perf:\n",
    "    dataset['termdays'] = dataset['termdays'].replace({15: 0, 30: 1, 60: 2, 90:3})"
   ]
  },
  {
   "cell_type": "code",
   "execution_count": 60,
   "metadata": {},
   "outputs": [
    {
     "data": {
      "text/html": [
       "<div>\n",
       "<style scoped>\n",
       "    .dataframe tbody tr th:only-of-type {\n",
       "        vertical-align: middle;\n",
       "    }\n",
       "\n",
       "    .dataframe tbody tr th {\n",
       "        vertical-align: top;\n",
       "    }\n",
       "\n",
       "    .dataframe thead th {\n",
       "        text-align: right;\n",
       "    }\n",
       "</style>\n",
       "<table border=\"1\" class=\"dataframe\">\n",
       "  <thead>\n",
       "    <tr style=\"text-align: right;\">\n",
       "      <th></th>\n",
       "      <th>customerid</th>\n",
       "      <th>systemloanid</th>\n",
       "      <th>loanamount</th>\n",
       "      <th>termdays</th>\n",
       "      <th>approval_length</th>\n",
       "      <th>loan_length</th>\n",
       "      <th>first_pay_length</th>\n",
       "    </tr>\n",
       "  </thead>\n",
       "  <tbody>\n",
       "    <tr>\n",
       "      <td>0</td>\n",
       "      <td>8a2a81a74ce8c05d014cfb32a0da1049</td>\n",
       "      <td>301682320</td>\n",
       "      <td>1.0</td>\n",
       "      <td>1</td>\n",
       "      <td>01:00:08</td>\n",
       "      <td>16 days 21:44:08</td>\n",
       "      <td>16 days 21:29:03</td>\n",
       "    </tr>\n",
       "    <tr>\n",
       "      <td>1</td>\n",
       "      <td>8a2a81a74ce8c05d014cfb32a0da1049</td>\n",
       "      <td>301883808</td>\n",
       "      <td>1.0</td>\n",
       "      <td>1</td>\n",
       "      <td>01:00:14</td>\n",
       "      <td>29 days 20:05:42</td>\n",
       "      <td>27 days 05:20:53</td>\n",
       "    </tr>\n",
       "    <tr>\n",
       "      <td>2</td>\n",
       "      <td>8a2a81a74ce8c05d014cfb32a0da1049</td>\n",
       "      <td>301831714</td>\n",
       "      <td>1.0</td>\n",
       "      <td>1</td>\n",
       "      <td>01:00:06</td>\n",
       "      <td>52 days 11:22:31</td>\n",
       "      <td>52 days 11:07:22</td>\n",
       "    </tr>\n",
       "    <tr>\n",
       "      <td>3</td>\n",
       "      <td>8a8588f35438fe12015444567666018e</td>\n",
       "      <td>301861541</td>\n",
       "      <td>1.0</td>\n",
       "      <td>0</td>\n",
       "      <td>01:00:13</td>\n",
       "      <td>14 days 07:09:57</td>\n",
       "      <td>14 days 06:22:48</td>\n",
       "    </tr>\n",
       "    <tr>\n",
       "      <td>4</td>\n",
       "      <td>8a85890754145ace015429211b513e16</td>\n",
       "      <td>301941754</td>\n",
       "      <td>1.0</td>\n",
       "      <td>0</td>\n",
       "      <td>01:00:07</td>\n",
       "      <td>27 days 11:48:46</td>\n",
       "      <td>27 days 11:38:38</td>\n",
       "    </tr>\n",
       "  </tbody>\n",
       "</table>\n",
       "</div>"
      ],
      "text/plain": [
       "                         customerid  systemloanid  loanamount  termdays  \\\n",
       "0  8a2a81a74ce8c05d014cfb32a0da1049     301682320         1.0         1   \n",
       "1  8a2a81a74ce8c05d014cfb32a0da1049     301883808         1.0         1   \n",
       "2  8a2a81a74ce8c05d014cfb32a0da1049     301831714         1.0         1   \n",
       "3  8a8588f35438fe12015444567666018e     301861541         1.0         0   \n",
       "4  8a85890754145ace015429211b513e16     301941754         1.0         0   \n",
       "\n",
       "  approval_length      loan_length first_pay_length  \n",
       "0        01:00:08 16 days 21:44:08 16 days 21:29:03  \n",
       "1        01:00:14 29 days 20:05:42 27 days 05:20:53  \n",
       "2        01:00:06 52 days 11:22:31 52 days 11:07:22  \n",
       "3        01:00:13 14 days 07:09:57 14 days 06:22:48  \n",
       "4        01:00:07 27 days 11:48:46 27 days 11:38:38  "
      ]
     },
     "execution_count": 60,
     "metadata": {},
     "output_type": "execute_result"
    }
   ],
   "source": [
    "train_prev.head()"
   ]
  },
  {
   "cell_type": "code",
   "execution_count": 61,
   "metadata": {},
   "outputs": [
    {
     "name": "stderr",
     "output_type": "stream",
     "text": [
      "C:\\Users\\Banks\\Anaconda3\\lib\\site-packages\\pandas\\util\\_decorators.py:208: FutureWarning: Passing timedelta64-dtype data is deprecated, will raise a TypeError in a future version\n",
      "  return func(*args, **kwargs)\n"
     ]
    }
   ],
   "source": [
    "combine_prev = [train_prev,test_prev]\n",
    "for dataset in combine_prev:\n",
    "    dataset['approval_length'] = pd.to_datetime(dataset['approval_length']).dt.hour"
   ]
  },
  {
   "cell_type": "code",
   "execution_count": 62,
   "metadata": {},
   "outputs": [
    {
     "data": {
      "text/plain": [
       "1     18054\n",
       "2        40\n",
       "3        20\n",
       "4        10\n",
       "11        6\n",
       "9         6\n",
       "8         6\n",
       "5         6\n",
       "12        5\n",
       "6         5\n",
       "10        4\n",
       "7         4\n",
       "14        3\n",
       "22        2\n",
       "17        2\n",
       "16        2\n",
       "19        2\n",
       "23        2\n",
       "13        2\n",
       "21        1\n",
       "15        1\n",
       "Name: approval_length, dtype: int64"
      ]
     },
     "execution_count": 62,
     "metadata": {},
     "output_type": "execute_result"
    }
   ],
   "source": [
    "train_prev['approval_length'].value_counts()"
   ]
  },
  {
   "cell_type": "code",
   "execution_count": 63,
   "metadata": {},
   "outputs": [
    {
     "name": "stderr",
     "output_type": "stream",
     "text": [
      "C:\\Users\\Banks\\Anaconda3\\lib\\site-packages\\ipykernel_launcher.py:3: FutureWarning: Passing timedelta64-dtype data is deprecated, will raise a TypeError in a future version\n",
      "  This is separate from the ipykernel package so we can avoid doing imports until\n",
      "C:\\Users\\Banks\\Anaconda3\\lib\\site-packages\\ipykernel_launcher.py:4: FutureWarning: Passing timedelta64-dtype data is deprecated, will raise a TypeError in a future version\n",
      "  after removing the cwd from sys.path.\n"
     ]
    }
   ],
   "source": [
    "# extract day format\n",
    "combine_prev = [train_prev,test_prev]\n",
    "for dataset in combine_prev:\n",
    "    dataset['loan_length'] = pd.to_datetime(dataset['loan_length']).dt.day\n",
    "    dataset['first_pay_length'] = pd.to_datetime(dataset['first_pay_length']).dt.day"
   ]
  },
  {
   "cell_type": "code",
   "execution_count": 64,
   "metadata": {},
   "outputs": [
    {
     "data": {
      "text/html": [
       "<div>\n",
       "<style scoped>\n",
       "    .dataframe tbody tr th:only-of-type {\n",
       "        vertical-align: middle;\n",
       "    }\n",
       "\n",
       "    .dataframe tbody tr th {\n",
       "        vertical-align: top;\n",
       "    }\n",
       "\n",
       "    .dataframe thead th {\n",
       "        text-align: right;\n",
       "    }\n",
       "</style>\n",
       "<table border=\"1\" class=\"dataframe\">\n",
       "  <thead>\n",
       "    <tr style=\"text-align: right;\">\n",
       "      <th></th>\n",
       "      <th>customerid</th>\n",
       "      <th>systemloanid</th>\n",
       "      <th>loanamount</th>\n",
       "      <th>termdays</th>\n",
       "      <th>approval_length</th>\n",
       "      <th>loan_length</th>\n",
       "      <th>first_pay_length</th>\n",
       "    </tr>\n",
       "  </thead>\n",
       "  <tbody>\n",
       "    <tr>\n",
       "      <td>0</td>\n",
       "      <td>8a2a81a74ce8c05d014cfb32a0da1049</td>\n",
       "      <td>301682320</td>\n",
       "      <td>1.0</td>\n",
       "      <td>1</td>\n",
       "      <td>1</td>\n",
       "      <td>17</td>\n",
       "      <td>17</td>\n",
       "    </tr>\n",
       "    <tr>\n",
       "      <td>1</td>\n",
       "      <td>8a2a81a74ce8c05d014cfb32a0da1049</td>\n",
       "      <td>301883808</td>\n",
       "      <td>1.0</td>\n",
       "      <td>1</td>\n",
       "      <td>1</td>\n",
       "      <td>30</td>\n",
       "      <td>28</td>\n",
       "    </tr>\n",
       "    <tr>\n",
       "      <td>2</td>\n",
       "      <td>8a2a81a74ce8c05d014cfb32a0da1049</td>\n",
       "      <td>301831714</td>\n",
       "      <td>1.0</td>\n",
       "      <td>1</td>\n",
       "      <td>1</td>\n",
       "      <td>22</td>\n",
       "      <td>22</td>\n",
       "    </tr>\n",
       "    <tr>\n",
       "      <td>3</td>\n",
       "      <td>8a8588f35438fe12015444567666018e</td>\n",
       "      <td>301861541</td>\n",
       "      <td>1.0</td>\n",
       "      <td>0</td>\n",
       "      <td>1</td>\n",
       "      <td>15</td>\n",
       "      <td>15</td>\n",
       "    </tr>\n",
       "    <tr>\n",
       "      <td>4</td>\n",
       "      <td>8a85890754145ace015429211b513e16</td>\n",
       "      <td>301941754</td>\n",
       "      <td>1.0</td>\n",
       "      <td>0</td>\n",
       "      <td>1</td>\n",
       "      <td>28</td>\n",
       "      <td>28</td>\n",
       "    </tr>\n",
       "  </tbody>\n",
       "</table>\n",
       "</div>"
      ],
      "text/plain": [
       "                         customerid  systemloanid  loanamount  termdays  \\\n",
       "0  8a2a81a74ce8c05d014cfb32a0da1049     301682320         1.0         1   \n",
       "1  8a2a81a74ce8c05d014cfb32a0da1049     301883808         1.0         1   \n",
       "2  8a2a81a74ce8c05d014cfb32a0da1049     301831714         1.0         1   \n",
       "3  8a8588f35438fe12015444567666018e     301861541         1.0         0   \n",
       "4  8a85890754145ace015429211b513e16     301941754         1.0         0   \n",
       "\n",
       "   approval_length  loan_length  first_pay_length  \n",
       "0                1           17                17  \n",
       "1                1           30                28  \n",
       "2                1           22                22  \n",
       "3                1           15                15  \n",
       "4                1           28                28  "
      ]
     },
     "execution_count": 64,
     "metadata": {},
     "output_type": "execute_result"
    }
   ],
   "source": [
    "train_prev.head()"
   ]
  },
  {
   "cell_type": "code",
   "execution_count": 65,
   "metadata": {},
   "outputs": [
    {
     "data": {
      "text/html": [
       "<div>\n",
       "<style scoped>\n",
       "    .dataframe tbody tr th:only-of-type {\n",
       "        vertical-align: middle;\n",
       "    }\n",
       "\n",
       "    .dataframe tbody tr th {\n",
       "        vertical-align: top;\n",
       "    }\n",
       "\n",
       "    .dataframe thead th {\n",
       "        text-align: right;\n",
       "    }\n",
       "</style>\n",
       "<table border=\"1\" class=\"dataframe\">\n",
       "  <thead>\n",
       "    <tr style=\"text-align: right;\">\n",
       "      <th></th>\n",
       "      <th>customerid</th>\n",
       "      <th>systemloanid</th>\n",
       "      <th>loanamount</th>\n",
       "      <th>termdays</th>\n",
       "      <th>good_bad_flag</th>\n",
       "    </tr>\n",
       "  </thead>\n",
       "  <tbody>\n",
       "    <tr>\n",
       "      <td>0</td>\n",
       "      <td>8a2a81a74ce8c05d014cfb32a0da1049</td>\n",
       "      <td>301994762</td>\n",
       "      <td>2.0</td>\n",
       "      <td>1</td>\n",
       "      <td>Good</td>\n",
       "    </tr>\n",
       "    <tr>\n",
       "      <td>1</td>\n",
       "      <td>8a85886e54beabf90154c0a29ae757c0</td>\n",
       "      <td>301965204</td>\n",
       "      <td>1.0</td>\n",
       "      <td>1</td>\n",
       "      <td>Good</td>\n",
       "    </tr>\n",
       "    <tr>\n",
       "      <td>2</td>\n",
       "      <td>8a8588f35438fe12015444567666018e</td>\n",
       "      <td>301966580</td>\n",
       "      <td>1.0</td>\n",
       "      <td>0</td>\n",
       "      <td>Good</td>\n",
       "    </tr>\n",
       "    <tr>\n",
       "      <td>3</td>\n",
       "      <td>8a85890754145ace015429211b513e16</td>\n",
       "      <td>301999343</td>\n",
       "      <td>1.0</td>\n",
       "      <td>0</td>\n",
       "      <td>Good</td>\n",
       "    </tr>\n",
       "    <tr>\n",
       "      <td>4</td>\n",
       "      <td>8a858970548359cc0154883481981866</td>\n",
       "      <td>301962360</td>\n",
       "      <td>2.0</td>\n",
       "      <td>1</td>\n",
       "      <td>Good</td>\n",
       "    </tr>\n",
       "  </tbody>\n",
       "</table>\n",
       "</div>"
      ],
      "text/plain": [
       "                         customerid  systemloanid  loanamount  termdays  \\\n",
       "0  8a2a81a74ce8c05d014cfb32a0da1049     301994762         2.0         1   \n",
       "1  8a85886e54beabf90154c0a29ae757c0     301965204         1.0         1   \n",
       "2  8a8588f35438fe12015444567666018e     301966580         1.0         0   \n",
       "3  8a85890754145ace015429211b513e16     301999343         1.0         0   \n",
       "4  8a858970548359cc0154883481981866     301962360         2.0         1   \n",
       "\n",
       "  good_bad_flag  \n",
       "0          Good  \n",
       "1          Good  \n",
       "2          Good  \n",
       "3          Good  \n",
       "4          Good  "
      ]
     },
     "execution_count": 65,
     "metadata": {},
     "output_type": "execute_result"
    }
   ],
   "source": [
    "train_perf.head()"
   ]
  },
  {
   "cell_type": "code",
   "execution_count": 66,
   "metadata": {},
   "outputs": [],
   "source": [
    "# masking good_bad_flag\n",
    "train_perf['good_bad_flag'] = train_perf['good_bad_flag'].replace({'Good': 1, 'Bad': 0})"
   ]
  },
  {
   "cell_type": "code",
   "execution_count": 67,
   "metadata": {},
   "outputs": [
    {
     "data": {
      "text/html": [
       "<div>\n",
       "<style scoped>\n",
       "    .dataframe tbody tr th:only-of-type {\n",
       "        vertical-align: middle;\n",
       "    }\n",
       "\n",
       "    .dataframe tbody tr th {\n",
       "        vertical-align: top;\n",
       "    }\n",
       "\n",
       "    .dataframe thead th {\n",
       "        text-align: right;\n",
       "    }\n",
       "</style>\n",
       "<table border=\"1\" class=\"dataframe\">\n",
       "  <thead>\n",
       "    <tr style=\"text-align: right;\">\n",
       "      <th></th>\n",
       "      <th>customerid</th>\n",
       "      <th>bank_account_type</th>\n",
       "      <th>employment_status_clients</th>\n",
       "      <th>level_of_education_clients</th>\n",
       "      <th>region</th>\n",
       "    </tr>\n",
       "  </thead>\n",
       "  <tbody>\n",
       "    <tr>\n",
       "      <td>0</td>\n",
       "      <td>8a858e135cb22031015cbafc76964ebd</td>\n",
       "      <td>1</td>\n",
       "      <td>6</td>\n",
       "      <td>4</td>\n",
       "      <td>0</td>\n",
       "    </tr>\n",
       "    <tr>\n",
       "      <td>1</td>\n",
       "      <td>8a858e275c7ea5ec015c82482d7c3996</td>\n",
       "      <td>1</td>\n",
       "      <td>0</td>\n",
       "      <td>4</td>\n",
       "      <td>0</td>\n",
       "    </tr>\n",
       "    <tr>\n",
       "      <td>2</td>\n",
       "      <td>8a858e5b5bd99460015bdc95cd485634</td>\n",
       "      <td>1</td>\n",
       "      <td>6</td>\n",
       "      <td>4</td>\n",
       "      <td>0</td>\n",
       "    </tr>\n",
       "    <tr>\n",
       "      <td>3</td>\n",
       "      <td>8a858efd5ca70688015cabd1f1e94b55</td>\n",
       "      <td>1</td>\n",
       "      <td>0</td>\n",
       "      <td>4</td>\n",
       "      <td>0</td>\n",
       "    </tr>\n",
       "    <tr>\n",
       "      <td>4</td>\n",
       "      <td>8a858e785acd3412015acd48f4920d04</td>\n",
       "      <td>1</td>\n",
       "      <td>0</td>\n",
       "      <td>4</td>\n",
       "      <td>1</td>\n",
       "    </tr>\n",
       "  </tbody>\n",
       "</table>\n",
       "</div>"
      ],
      "text/plain": [
       "                         customerid  bank_account_type  \\\n",
       "0  8a858e135cb22031015cbafc76964ebd                  1   \n",
       "1  8a858e275c7ea5ec015c82482d7c3996                  1   \n",
       "2  8a858e5b5bd99460015bdc95cd485634                  1   \n",
       "3  8a858efd5ca70688015cabd1f1e94b55                  1   \n",
       "4  8a858e785acd3412015acd48f4920d04                  1   \n",
       "\n",
       "   employment_status_clients  level_of_education_clients  region  \n",
       "0                          6                           4       0  \n",
       "1                          0                           4       0  \n",
       "2                          6                           4       0  \n",
       "3                          0                           4       0  \n",
       "4                          0                           4       1  "
      ]
     },
     "execution_count": 67,
     "metadata": {},
     "output_type": "execute_result"
    }
   ],
   "source": [
    "train_demo.head()"
   ]
  },
  {
   "cell_type": "code",
   "execution_count": 68,
   "metadata": {},
   "outputs": [
    {
     "data": {
      "text/html": [
       "<div>\n",
       "<style scoped>\n",
       "    .dataframe tbody tr th:only-of-type {\n",
       "        vertical-align: middle;\n",
       "    }\n",
       "\n",
       "    .dataframe tbody tr th {\n",
       "        vertical-align: top;\n",
       "    }\n",
       "\n",
       "    .dataframe thead th {\n",
       "        text-align: right;\n",
       "    }\n",
       "</style>\n",
       "<table border=\"1\" class=\"dataframe\">\n",
       "  <thead>\n",
       "    <tr style=\"text-align: right;\">\n",
       "      <th></th>\n",
       "      <th>customerid</th>\n",
       "      <th>systemloanid</th>\n",
       "      <th>loanamount</th>\n",
       "      <th>termdays</th>\n",
       "      <th>good_bad_flag</th>\n",
       "    </tr>\n",
       "  </thead>\n",
       "  <tbody>\n",
       "    <tr>\n",
       "      <td>0</td>\n",
       "      <td>8a2a81a74ce8c05d014cfb32a0da1049</td>\n",
       "      <td>301994762</td>\n",
       "      <td>2.0</td>\n",
       "      <td>1</td>\n",
       "      <td>1</td>\n",
       "    </tr>\n",
       "    <tr>\n",
       "      <td>1</td>\n",
       "      <td>8a85886e54beabf90154c0a29ae757c0</td>\n",
       "      <td>301965204</td>\n",
       "      <td>1.0</td>\n",
       "      <td>1</td>\n",
       "      <td>1</td>\n",
       "    </tr>\n",
       "    <tr>\n",
       "      <td>2</td>\n",
       "      <td>8a8588f35438fe12015444567666018e</td>\n",
       "      <td>301966580</td>\n",
       "      <td>1.0</td>\n",
       "      <td>0</td>\n",
       "      <td>1</td>\n",
       "    </tr>\n",
       "    <tr>\n",
       "      <td>3</td>\n",
       "      <td>8a85890754145ace015429211b513e16</td>\n",
       "      <td>301999343</td>\n",
       "      <td>1.0</td>\n",
       "      <td>0</td>\n",
       "      <td>1</td>\n",
       "    </tr>\n",
       "    <tr>\n",
       "      <td>4</td>\n",
       "      <td>8a858970548359cc0154883481981866</td>\n",
       "      <td>301962360</td>\n",
       "      <td>2.0</td>\n",
       "      <td>1</td>\n",
       "      <td>1</td>\n",
       "    </tr>\n",
       "  </tbody>\n",
       "</table>\n",
       "</div>"
      ],
      "text/plain": [
       "                         customerid  systemloanid  loanamount  termdays  \\\n",
       "0  8a2a81a74ce8c05d014cfb32a0da1049     301994762         2.0         1   \n",
       "1  8a85886e54beabf90154c0a29ae757c0     301965204         1.0         1   \n",
       "2  8a8588f35438fe12015444567666018e     301966580         1.0         0   \n",
       "3  8a85890754145ace015429211b513e16     301999343         1.0         0   \n",
       "4  8a858970548359cc0154883481981866     301962360         2.0         1   \n",
       "\n",
       "   good_bad_flag  \n",
       "0              1  \n",
       "1              1  \n",
       "2              1  \n",
       "3              1  \n",
       "4              1  "
      ]
     },
     "execution_count": 68,
     "metadata": {},
     "output_type": "execute_result"
    }
   ],
   "source": [
    "train_perf.head()"
   ]
  },
  {
   "cell_type": "code",
   "execution_count": 69,
   "metadata": {},
   "outputs": [
    {
     "data": {
      "text/html": [
       "<div>\n",
       "<style scoped>\n",
       "    .dataframe tbody tr th:only-of-type {\n",
       "        vertical-align: middle;\n",
       "    }\n",
       "\n",
       "    .dataframe tbody tr th {\n",
       "        vertical-align: top;\n",
       "    }\n",
       "\n",
       "    .dataframe thead th {\n",
       "        text-align: right;\n",
       "    }\n",
       "</style>\n",
       "<table border=\"1\" class=\"dataframe\">\n",
       "  <thead>\n",
       "    <tr style=\"text-align: right;\">\n",
       "      <th></th>\n",
       "      <th>customerid</th>\n",
       "      <th>systemloanid</th>\n",
       "      <th>loanamount</th>\n",
       "      <th>termdays</th>\n",
       "      <th>approval_length</th>\n",
       "      <th>loan_length</th>\n",
       "      <th>first_pay_length</th>\n",
       "    </tr>\n",
       "  </thead>\n",
       "  <tbody>\n",
       "    <tr>\n",
       "      <td>0</td>\n",
       "      <td>8a2a81a74ce8c05d014cfb32a0da1049</td>\n",
       "      <td>301682320</td>\n",
       "      <td>1.0</td>\n",
       "      <td>1</td>\n",
       "      <td>1</td>\n",
       "      <td>17</td>\n",
       "      <td>17</td>\n",
       "    </tr>\n",
       "    <tr>\n",
       "      <td>1</td>\n",
       "      <td>8a2a81a74ce8c05d014cfb32a0da1049</td>\n",
       "      <td>301883808</td>\n",
       "      <td>1.0</td>\n",
       "      <td>1</td>\n",
       "      <td>1</td>\n",
       "      <td>30</td>\n",
       "      <td>28</td>\n",
       "    </tr>\n",
       "    <tr>\n",
       "      <td>2</td>\n",
       "      <td>8a2a81a74ce8c05d014cfb32a0da1049</td>\n",
       "      <td>301831714</td>\n",
       "      <td>1.0</td>\n",
       "      <td>1</td>\n",
       "      <td>1</td>\n",
       "      <td>22</td>\n",
       "      <td>22</td>\n",
       "    </tr>\n",
       "    <tr>\n",
       "      <td>3</td>\n",
       "      <td>8a8588f35438fe12015444567666018e</td>\n",
       "      <td>301861541</td>\n",
       "      <td>1.0</td>\n",
       "      <td>0</td>\n",
       "      <td>1</td>\n",
       "      <td>15</td>\n",
       "      <td>15</td>\n",
       "    </tr>\n",
       "    <tr>\n",
       "      <td>4</td>\n",
       "      <td>8a85890754145ace015429211b513e16</td>\n",
       "      <td>301941754</td>\n",
       "      <td>1.0</td>\n",
       "      <td>0</td>\n",
       "      <td>1</td>\n",
       "      <td>28</td>\n",
       "      <td>28</td>\n",
       "    </tr>\n",
       "  </tbody>\n",
       "</table>\n",
       "</div>"
      ],
      "text/plain": [
       "                         customerid  systemloanid  loanamount  termdays  \\\n",
       "0  8a2a81a74ce8c05d014cfb32a0da1049     301682320         1.0         1   \n",
       "1  8a2a81a74ce8c05d014cfb32a0da1049     301883808         1.0         1   \n",
       "2  8a2a81a74ce8c05d014cfb32a0da1049     301831714         1.0         1   \n",
       "3  8a8588f35438fe12015444567666018e     301861541         1.0         0   \n",
       "4  8a85890754145ace015429211b513e16     301941754         1.0         0   \n",
       "\n",
       "   approval_length  loan_length  first_pay_length  \n",
       "0                1           17                17  \n",
       "1                1           30                28  \n",
       "2                1           22                22  \n",
       "3                1           15                15  \n",
       "4                1           28                28  "
      ]
     },
     "execution_count": 69,
     "metadata": {},
     "output_type": "execute_result"
    }
   ],
   "source": [
    "train_prev.head()"
   ]
  },
  {
   "cell_type": "code",
   "execution_count": 70,
   "metadata": {},
   "outputs": [],
   "source": [
    "# merge records\n",
    "train_prev_demo = pd.merge(train_demo, train_prev, how = 'inner', on = 'customerid')\n",
    "test_prev_demo = pd.merge(test_demo, test_prev, how = 'inner', on = 'customerid')\n",
    "train = pd.merge(train_prev_demo, train_perf, how = 'inner', on = 'customerid')\n",
    "test = pd.merge(test_prev_demo, test_perf, how = 'inner', on = 'customerid')"
   ]
  },
  {
   "cell_type": "code",
   "execution_count": 71,
   "metadata": {},
   "outputs": [
    {
     "data": {
      "text/html": [
       "<div>\n",
       "<style scoped>\n",
       "    .dataframe tbody tr th:only-of-type {\n",
       "        vertical-align: middle;\n",
       "    }\n",
       "\n",
       "    .dataframe tbody tr th {\n",
       "        vertical-align: top;\n",
       "    }\n",
       "\n",
       "    .dataframe thead th {\n",
       "        text-align: right;\n",
       "    }\n",
       "</style>\n",
       "<table border=\"1\" class=\"dataframe\">\n",
       "  <thead>\n",
       "    <tr style=\"text-align: right;\">\n",
       "      <th></th>\n",
       "      <th>customerid</th>\n",
       "      <th>bank_account_type</th>\n",
       "      <th>employment_status_clients</th>\n",
       "      <th>level_of_education_clients</th>\n",
       "      <th>region</th>\n",
       "      <th>systemloanid_x</th>\n",
       "      <th>loanamount_x</th>\n",
       "      <th>termdays_x</th>\n",
       "      <th>approval_length</th>\n",
       "      <th>loan_length</th>\n",
       "      <th>first_pay_length</th>\n",
       "      <th>systemloanid_y</th>\n",
       "      <th>loanamount_y</th>\n",
       "      <th>termdays_y</th>\n",
       "      <th>good_bad_flag</th>\n",
       "    </tr>\n",
       "  </thead>\n",
       "  <tbody>\n",
       "    <tr>\n",
       "      <td>0</td>\n",
       "      <td>8a858e135cb22031015cbafc76964ebd</td>\n",
       "      <td>1</td>\n",
       "      <td>6</td>\n",
       "      <td>4</td>\n",
       "      <td>0</td>\n",
       "      <td>301943951</td>\n",
       "      <td>1.0</td>\n",
       "      <td>0</td>\n",
       "      <td>1</td>\n",
       "      <td>16</td>\n",
       "      <td>16</td>\n",
       "      <td>301964962</td>\n",
       "      <td>1.0</td>\n",
       "      <td>1</td>\n",
       "      <td>1</td>\n",
       "    </tr>\n",
       "    <tr>\n",
       "      <td>1</td>\n",
       "      <td>8a858e275c7ea5ec015c82482d7c3996</td>\n",
       "      <td>1</td>\n",
       "      <td>0</td>\n",
       "      <td>4</td>\n",
       "      <td>0</td>\n",
       "      <td>301929966</td>\n",
       "      <td>1.0</td>\n",
       "      <td>1</td>\n",
       "      <td>1</td>\n",
       "      <td>2</td>\n",
       "      <td>2</td>\n",
       "      <td>301972172</td>\n",
       "      <td>1.0</td>\n",
       "      <td>1</td>\n",
       "      <td>0</td>\n",
       "    </tr>\n",
       "    <tr>\n",
       "      <td>2</td>\n",
       "      <td>8a858e5b5bd99460015bdc95cd485634</td>\n",
       "      <td>1</td>\n",
       "      <td>6</td>\n",
       "      <td>4</td>\n",
       "      <td>0</td>\n",
       "      <td>301931228</td>\n",
       "      <td>1.0</td>\n",
       "      <td>1</td>\n",
       "      <td>1</td>\n",
       "      <td>2</td>\n",
       "      <td>2</td>\n",
       "      <td>301976271</td>\n",
       "      <td>1.0</td>\n",
       "      <td>1</td>\n",
       "      <td>1</td>\n",
       "    </tr>\n",
       "    <tr>\n",
       "      <td>3</td>\n",
       "      <td>8a858e5b5bd99460015bdc95cd485634</td>\n",
       "      <td>1</td>\n",
       "      <td>6</td>\n",
       "      <td>4</td>\n",
       "      <td>0</td>\n",
       "      <td>301895253</td>\n",
       "      <td>1.0</td>\n",
       "      <td>0</td>\n",
       "      <td>1</td>\n",
       "      <td>20</td>\n",
       "      <td>20</td>\n",
       "      <td>301976271</td>\n",
       "      <td>1.0</td>\n",
       "      <td>1</td>\n",
       "      <td>1</td>\n",
       "    </tr>\n",
       "    <tr>\n",
       "      <td>4</td>\n",
       "      <td>8a858e5b5bd99460015bdc95cd485634</td>\n",
       "      <td>1</td>\n",
       "      <td>6</td>\n",
       "      <td>4</td>\n",
       "      <td>0</td>\n",
       "      <td>301919784</td>\n",
       "      <td>1.0</td>\n",
       "      <td>0</td>\n",
       "      <td>1</td>\n",
       "      <td>12</td>\n",
       "      <td>12</td>\n",
       "      <td>301976271</td>\n",
       "      <td>1.0</td>\n",
       "      <td>1</td>\n",
       "      <td>1</td>\n",
       "    </tr>\n",
       "  </tbody>\n",
       "</table>\n",
       "</div>"
      ],
      "text/plain": [
       "                         customerid  bank_account_type  \\\n",
       "0  8a858e135cb22031015cbafc76964ebd                  1   \n",
       "1  8a858e275c7ea5ec015c82482d7c3996                  1   \n",
       "2  8a858e5b5bd99460015bdc95cd485634                  1   \n",
       "3  8a858e5b5bd99460015bdc95cd485634                  1   \n",
       "4  8a858e5b5bd99460015bdc95cd485634                  1   \n",
       "\n",
       "   employment_status_clients  level_of_education_clients  region  \\\n",
       "0                          6                           4       0   \n",
       "1                          0                           4       0   \n",
       "2                          6                           4       0   \n",
       "3                          6                           4       0   \n",
       "4                          6                           4       0   \n",
       "\n",
       "   systemloanid_x  loanamount_x  termdays_x  approval_length  loan_length  \\\n",
       "0       301943951           1.0           0                1           16   \n",
       "1       301929966           1.0           1                1            2   \n",
       "2       301931228           1.0           1                1            2   \n",
       "3       301895253           1.0           0                1           20   \n",
       "4       301919784           1.0           0                1           12   \n",
       "\n",
       "   first_pay_length  systemloanid_y  loanamount_y  termdays_y  good_bad_flag  \n",
       "0                16       301964962           1.0           1              1  \n",
       "1                 2       301972172           1.0           1              0  \n",
       "2                 2       301976271           1.0           1              1  \n",
       "3                20       301976271           1.0           1              1  \n",
       "4                12       301976271           1.0           1              1  "
      ]
     },
     "execution_count": 71,
     "metadata": {},
     "output_type": "execute_result"
    }
   ],
   "source": [
    "train.head()"
   ]
  },
  {
   "cell_type": "code",
   "execution_count": 72,
   "metadata": {},
   "outputs": [],
   "source": [
    "# drop id\n",
    "train = train.drop(['systemloanid_x', 'systemloanid_y','customerid'], axis=1)\n",
    "test = test.drop(['systemloanid_x', 'systemloanid_y','customerid'], axis=1)\n"
   ]
  },
  {
   "cell_type": "code",
   "execution_count": 77,
   "metadata": {},
   "outputs": [
    {
     "data": {
      "text/plain": [
       "<matplotlib.axes._subplots.AxesSubplot at 0x28a357905c8>"
      ]
     },
     "execution_count": 77,
     "metadata": {},
     "output_type": "execute_result"
    },
    {
     "data": {
      "image/png": "[encoded data removed]",
      "text/plain": [
       "<Figure size 1008x864 with 2 Axes>"
      ]
     },
     "metadata": {
      "needs_background": "light"
     },
     "output_type": "display_data"
    }
   ],
   "source": [
    "# correlating features\n",
    "colormap = plt.cm.RdBu\n",
    "plt.figure(figsize=(14,12))\n",
    "plt.title('Pearson Correlation of Features', y=1.05, size=15)\n",
    "sns.heatmap(train.astype(float).corr(),linewidths=0.1,vmax=1.0, \n",
    "            square=True, cmap=colormap, linecolor='white', annot=True)"
   ]
  },
  {
   "cell_type": "code",
   "execution_count": null,
   "metadata": {},
   "outputs": [],
   "source": [
    "# 94% correlation between when the customer first pays the loan and when the customer actually pays the loan \n",
    "# meaning the first pay length can be dropped"
   ]
  },
  {
   "cell_type": "code",
   "execution_count": 76,
   "metadata": {},
   "outputs": [],
   "source": [
    "# drop loan_length\n",
    "train = train.drop(['loan_length'], axis=1)\n",
    "test = test.drop(['loan_length'], axis=1)"
   ]
  },
  {
   "cell_type": "code",
   "execution_count": 78,
   "metadata": {},
   "outputs": [
    {
     "data": {
      "text/plain": [
       "((13693, 10), (13693,), (1605, 10))"
      ]
     },
     "execution_count": 78,
     "metadata": {},
     "output_type": "execute_result"
    }
   ],
   "source": [
    "# setting x and y values\n",
    "X_train = train.drop(\"good_bad_flag\", axis=1)\n",
    "Y_train = train[\"good_bad_flag\"]\n",
    "X_test  = test\n",
    "X_train.shape, Y_train.shape, X_test.shape"
   ]
  },
  {
   "cell_type": "code",
   "execution_count": 79,
   "metadata": {},
   "outputs": [
    {
     "name": "stderr",
     "output_type": "stream",
     "text": [
      "C:\\Users\\Banks\\Anaconda3\\lib\\site-packages\\sklearn\\linear_model\\logistic.py:432: FutureWarning: Default solver will be changed to 'lbfgs' in 0.22. Specify a solver to silence this warning.\n",
      "  FutureWarning)\n",
      "C:\\Users\\Banks\\Anaconda3\\lib\\site-packages\\sklearn\\svm\\base.py:929: ConvergenceWarning: Liblinear failed to converge, increase the number of iterations.\n",
      "  \"the number of iterations.\", ConvergenceWarning)\n"
     ]
    },
    {
     "data": {
      "text/plain": [
       "81.54"
      ]
     },
     "execution_count": 79,
     "metadata": {},
     "output_type": "execute_result"
    }
   ],
   "source": [
    "# implement logistic regression\n",
    "log = LogisticRegression()\n",
    "log.fit(X_train, Y_train)\n",
    "Y_pred = log.predict(X_test)\n",
    "acc_log = round(log.score(X_train, Y_train) * 100, 2)\n",
    "acc_log"
   ]
  },
  {
   "cell_type": "code",
   "execution_count": 80,
   "metadata": {},
   "outputs": [
    {
     "name": "stderr",
     "output_type": "stream",
     "text": [
      "C:\\Users\\Banks\\Anaconda3\\lib\\site-packages\\sklearn\\svm\\base.py:193: FutureWarning: The default value of gamma will change from 'auto' to 'scale' in version 0.22 to account better for unscaled features. Set gamma explicitly to 'auto' or 'scale' to avoid this warning.\n",
      "  \"avoid this warning.\", FutureWarning)\n"
     ]
    },
    {
     "data": {
      "text/plain": [
       "81.71"
      ]
     },
     "execution_count": 80,
     "metadata": {},
     "output_type": "execute_result"
    }
   ],
   "source": [
    "# implement support vector machine\n",
    "svc = SVC()\n",
    "svc.fit(X_train, Y_train)\n",
    "Y_pred = svc.predict(X_test)\n",
    "acc_svc = round(svc.score(X_train, Y_train) * 100, 2)\n",
    "acc_svc"
   ]
  },
  {
   "cell_type": "code",
   "execution_count": 81,
   "metadata": {},
   "outputs": [
    {
     "data": {
      "text/plain": [
       "81.76"
      ]
     },
     "execution_count": 81,
     "metadata": {},
     "output_type": "execute_result"
    }
   ],
   "source": [
    "# implement k nearest neighbour\n",
    "knn = KNeighborsClassifier(n_neighbors = 3)\n",
    "knn.fit(X_train, Y_train)\n",
    "Y_pred = knn.predict(X_test)\n",
    "acc_knn = round(knn.score(X_train, Y_train) * 100, 2)\n",
    "acc_knn"
   ]
  },
  {
   "cell_type": "code",
   "execution_count": 82,
   "metadata": {},
   "outputs": [
    {
     "data": {
      "text/plain": [
       "87.29"
      ]
     },
     "execution_count": 82,
     "metadata": {},
     "output_type": "execute_result"
    }
   ],
   "source": [
    "# implement random forest\n",
    "random_forest = RandomForestClassifier(n_estimators=10)\n",
    "random_forest.fit(X_train, Y_train)\n",
    "Y_pred = random_forest.predict(X_test)\n",
    "random_forest.score(X_train, Y_train)\n",
    "acc_random_forest = round(random_forest.score(X_train, Y_train) * 100, 2)\n",
    "acc_random_forest"
   ]
  },
  {
   "cell_type": "code",
   "execution_count": 83,
   "metadata": {},
   "outputs": [
    {
     "data": {
      "text/plain": [
       "78.53"
      ]
     },
     "execution_count": 83,
     "metadata": {},
     "output_type": "execute_result"
    }
   ],
   "source": [
    "# implement naive bayes\n",
    "gaussian = GaussianNB()\n",
    "gaussian.fit(X_train, Y_train)\n",
    "Y_pred = gaussian.predict(X_test)\n",
    "acc_gaussian = round(gaussian.score(X_train, Y_train) * 100, 2)\n",
    "acc_gaussian"
   ]
  },
  {
   "cell_type": "code",
   "execution_count": 84,
   "metadata": {},
   "outputs": [
    {
     "name": "stderr",
     "output_type": "stream",
     "text": [
      "C:\\Users\\Banks\\Anaconda3\\lib\\site-packages\\sklearn\\svm\\base.py:193: FutureWarning: The default value of gamma will change from 'auto' to 'scale' in version 0.22 to account better for unscaled features. Set gamma explicitly to 'auto' or 'scale' to avoid this warning.\n",
      "  \"avoid this warning.\", FutureWarning)\n"
     ]
    },
    {
     "data": {
      "text/plain": [
       "81.71"
      ]
     },
     "execution_count": 84,
     "metadata": {},
     "output_type": "execute_result"
    }
   ],
   "source": [
    "# implement support vector machine\n",
    "svc = SVC()\n",
    "svc.fit(X_train, Y_train)\n",
    "Y_pred = svc.predict(X_test)\n",
    "acc_svc = round(svc.score(X_train, Y_train) * 100, 2)\n",
    "acc_svc"
   ]
  },
  {
   "cell_type": "code",
   "execution_count": 85,
   "metadata": {},
   "outputs": [
    {
     "data": {
      "text/plain": [
       "87.17"
      ]
     },
     "execution_count": 85,
     "metadata": {},
     "output_type": "execute_result"
    }
   ],
   "source": [
    "# implement random forest\n",
    "random_forest = RandomForestClassifier(n_estimators=10)\n",
    "random_forest.fit(X_train, Y_train)\n",
    "Y_pred = random_forest.predict(X_test)\n",
    "random_forest.score(X_train, Y_train)\n",
    "acc_random_forest = round(random_forest.score(X_train, Y_train) * 100, 2)\n",
    "acc_random_forest"
   ]
  },
  {
   "cell_type": "code",
   "execution_count": 90,
   "metadata": {},
   "outputs": [],
   "source": [
    "# generate output\n",
    "test_copy = pd.read_csv('testperf.csv')\n",
    "test['customerid'] = test_copy['customerid']\n",
    "submission = pd.DataFrame({\n",
    "        \"customerID\": test[\"customerid\"],\n",
    "        \"Good_Bad_flag\": Y_pred\n",
    "    })"
   ]
  },
  {
   "cell_type": "code",
   "execution_count": 91,
   "metadata": {},
   "outputs": [],
   "source": [
    "# export to csv and submit\n",
    "submission.to_csv('result.csv', index=False)"
   ]
  },
  {
   "cell_type": "code",
   "execution_count": 95,
   "metadata": {},
   "outputs": [
    {
     "data": {
      "text/plain": [
       "(1450, 4)"
      ]
     },
     "execution_count": 95,
     "metadata": {},
     "output_type": "execute_result"
    }
   ],
   "source": [
    "test_perf.shape"
   ]
  },
  {
   "cell_type": "code",
   "execution_count": 99,
   "metadata": {},
   "outputs": [
    {
     "data": {
      "text/html": [
       "<div>\n",
       "<style scoped>\n",
       "    .dataframe tbody tr th:only-of-type {\n",
       "        vertical-align: middle;\n",
       "    }\n",
       "\n",
       "    .dataframe tbody tr th {\n",
       "        vertical-align: top;\n",
       "    }\n",
       "\n",
       "    .dataframe thead th {\n",
       "        text-align: right;\n",
       "    }\n",
       "</style>\n",
       "<table border=\"1\" class=\"dataframe\">\n",
       "  <thead>\n",
       "    <tr style=\"text-align: right;\">\n",
       "      <th></th>\n",
       "      <th>bank_account_type</th>\n",
       "      <th>employment_status_clients</th>\n",
       "      <th>level_of_education_clients</th>\n",
       "      <th>region</th>\n",
       "      <th>loanamount_x</th>\n",
       "      <th>termdays_x</th>\n",
       "      <th>approval_length</th>\n",
       "      <th>first_pay_length</th>\n",
       "      <th>loanamount_y</th>\n",
       "      <th>termdays_y</th>\n",
       "      <th>good_bad_flag</th>\n",
       "    </tr>\n",
       "  </thead>\n",
       "  <tbody>\n",
       "    <tr>\n",
       "      <td>0</td>\n",
       "      <td>1</td>\n",
       "      <td>6</td>\n",
       "      <td>4</td>\n",
       "      <td>0</td>\n",
       "      <td>1.0</td>\n",
       "      <td>0</td>\n",
       "      <td>1</td>\n",
       "      <td>16</td>\n",
       "      <td>1.0</td>\n",
       "      <td>1</td>\n",
       "      <td>1</td>\n",
       "    </tr>\n",
       "    <tr>\n",
       "      <td>1</td>\n",
       "      <td>1</td>\n",
       "      <td>0</td>\n",
       "      <td>4</td>\n",
       "      <td>0</td>\n",
       "      <td>1.0</td>\n",
       "      <td>1</td>\n",
       "      <td>1</td>\n",
       "      <td>2</td>\n",
       "      <td>1.0</td>\n",
       "      <td>1</td>\n",
       "      <td>0</td>\n",
       "    </tr>\n",
       "    <tr>\n",
       "      <td>2</td>\n",
       "      <td>1</td>\n",
       "      <td>6</td>\n",
       "      <td>4</td>\n",
       "      <td>0</td>\n",
       "      <td>1.0</td>\n",
       "      <td>1</td>\n",
       "      <td>1</td>\n",
       "      <td>2</td>\n",
       "      <td>1.0</td>\n",
       "      <td>1</td>\n",
       "      <td>1</td>\n",
       "    </tr>\n",
       "    <tr>\n",
       "      <td>3</td>\n",
       "      <td>1</td>\n",
       "      <td>6</td>\n",
       "      <td>4</td>\n",
       "      <td>0</td>\n",
       "      <td>1.0</td>\n",
       "      <td>0</td>\n",
       "      <td>1</td>\n",
       "      <td>20</td>\n",
       "      <td>1.0</td>\n",
       "      <td>1</td>\n",
       "      <td>1</td>\n",
       "    </tr>\n",
       "    <tr>\n",
       "      <td>4</td>\n",
       "      <td>1</td>\n",
       "      <td>6</td>\n",
       "      <td>4</td>\n",
       "      <td>0</td>\n",
       "      <td>1.0</td>\n",
       "      <td>0</td>\n",
       "      <td>1</td>\n",
       "      <td>12</td>\n",
       "      <td>1.0</td>\n",
       "      <td>1</td>\n",
       "      <td>1</td>\n",
       "    </tr>\n",
       "  </tbody>\n",
       "</table>\n",
       "</div>"
      ],
      "text/plain": [
       "   bank_account_type  employment_status_clients  level_of_education_clients  \\\n",
       "0                  1                          6                           4   \n",
       "1                  1                          0                           4   \n",
       "2                  1                          6                           4   \n",
       "3                  1                          6                           4   \n",
       "4                  1                          6                           4   \n",
       "\n",
       "   region  loanamount_x  termdays_x  approval_length  first_pay_length  \\\n",
       "0       0           1.0           0                1                16   \n",
       "1       0           1.0           1                1                 2   \n",
       "2       0           1.0           1                1                 2   \n",
       "3       0           1.0           0                1                20   \n",
       "4       0           1.0           0                1                12   \n",
       "\n",
       "   loanamount_y  termdays_y  good_bad_flag  \n",
       "0           1.0           1              1  \n",
       "1           1.0           1              0  \n",
       "2           1.0           1              1  \n",
       "3           1.0           1              1  \n",
       "4           1.0           1              1  "
      ]
     },
     "execution_count": 99,
     "metadata": {},
     "output_type": "execute_result"
    }
   ],
   "source": [
    "train.head()"
   ]
  },
  {
   "cell_type": "code",
   "execution_count": 113,
   "metadata": {},
   "outputs": [
    {
     "data": {
      "image/png": "[encoded data removed]",
      "text/plain": [
       "<Figure size 432x288 with 1 Axes>"
      ]
     },
     "metadata": {
      "needs_background": "light"
     },
     "output_type": "display_data"
    }
   ],
   "source": [
    "# employment status vs good/bad flag\n",
    "plt.hist([[a for a, s in zip(train['employment_status_clients'], train['good_bad_flag']) if s==0], \n",
    "          [a for a, s in zip(train['employment_status_clients'],train['good_bad_flag']) if s==1]], \n",
    "         color=['r','g'], alpha=0.5, bins=10)\n",
    "plt.show()"
   ]
  },
  {
   "cell_type": "markdown",
   "metadata": {},
   "source": [
    "{'Permanent': 0, 'Self-Employed':1, 'Student':2, 'Unemployed':3, 'Retired':4,'Contract':5, 'Unknown':6 }\n",
    "majority of the loans requested by the permanent employees. There is an element of high risk/high reward as majority of the bad loans are from the permanent."
   ]
  },
  {
   "cell_type": "code",
   "execution_count": 115,
   "metadata": {},
   "outputs": [
    {
     "data": {
      "image/png": "[encoded data removed]",
      "text/plain": [
       "<Figure size 432x288 with 1 Axes>"
      ]
     },
     "metadata": {
      "needs_background": "light"
     },
     "output_type": "display_data"
    }
   ],
   "source": [
    "# education status vs good/bad flag\n",
    "plt.hist([[a for a, s in zip(train['level_of_education_clients'], train['good_bad_flag']) if s==0], \n",
    "          [a for a, s in zip(train['level_of_education_clients'],train['good_bad_flag']) if s==1]], \n",
    "         color=['r','g'], alpha=0.5, bins=10)\n",
    "plt.show()"
   ]
  },
  {
   "cell_type": "markdown",
   "metadata": {},
   "source": [
    "{'Graduate': 0, 'Secondary':1, 'Post-Graduate':2, 'Primary':3, 'Unknown':4 }\n",
    "this could mean a lot of customers that never went to school rely more on loans and do provide high risk.\n",
    "Due to graduates paying for student loans or just starting out work there is a high request on loans. As a result careful investigations need to be done to evaluate the employement status on these students"
   ]
  },
  {
   "cell_type": "markdown",
   "metadata": {},
   "source": [
    "Gender feature would play an important role as men and women spend money differently\n",
    "One can make assumptions as women in Africa are breadwinners and have to request more loans to provide to the families\n",
    "Another assumption is that men are generally financially irresponsible with money and would require more loans"
   ]
  },
  {
   "cell_type": "markdown",
   "metadata": {},
   "source": [
    "If I had more time, I would be able to correlate the location of the customer along with the name of the bank\n",
    "I would also add the date of birth feature by trying to carefully interpret the broken data which was dropped\n",
    "Lastly, I would decrypt the customerid to see if it is possible to treat it as a feature"
   ]
  }
 ],
 "metadata": {
  "kernelspec": {
   "display_name": "Python 3",
   "language": "python",
   "name": "python3"
  },
  "language_info": {
   "codemirror_mode": {
    "name": "ipython",
    "version": 3
   },
   "file_extension": ".py",
   "mimetype": "text/x-python",
   "name": "python",
   "nbconvert_exporter": "python",
   "pygments_lexer": "ipython3",
   "version": "3.7.4"
  }
 },
 "nbformat": 4,
 "nbformat_minor": 2
}
